{
 "cells": [
  {
   "cell_type": "markdown",
   "id": "f8781df4",
   "metadata": {},
   "source": [
    "# Edge Detection"
   ]
  },
  {
   "cell_type": "code",
   "execution_count": null,
   "id": "d41b88f3",
   "metadata": {},
   "outputs": [],
   "source": [
    "import cv2\n",
    "import numpy as np"
   ]
  },
  {
   "cell_type": "code",
   "execution_count": 11,
   "id": "8419d915",
   "metadata": {},
   "outputs": [],
   "source": [
    "img = cv2.imread(\"Course\\opencv-course\\Resources\\Photos\\cat.jpg\")\n",
    "cv2.imshow(\"cat\", img)\n",
    "cv2.waitKey(0)\n",
    "cv2.destroyAllWindows()"
   ]
  },
  {
   "cell_type": "code",
   "execution_count": 12,
   "id": "d865589c",
   "metadata": {},
   "outputs": [],
   "source": [
    "# Grayscale image\n",
    "gray = cv2.cv2tColor(img, cv2.COLOR_BGRcv2GRAY)\n",
    "cv2.imshow(\"Grayscale\", gray)\n",
    "cv2.waitKey(0)\n",
    "cv2.destroyAllWindows()"
   ]
  },
  {
   "cell_type": "code",
   "execution_count": 13,
   "id": "2a61db9a",
   "metadata": {},
   "outputs": [],
   "source": [
    "# Blur image\n",
    "blur = cv2.GaussianBlur(img, (7,7), cv2.BORDER_DEFAULT)\n",
    "cv2.imshow(\"Blurred\", blur)\n",
    "cv2.waitKey(0)\n",
    "cv2.destroyAllWindows()"
   ]
  },
  {
   "cell_type": "code",
   "execution_count": 14,
   "id": "acedfa1c",
   "metadata": {},
   "outputs": [],
   "source": [
    "# Edge detection\n",
    "canny = cv2.Canny(img, 125, 175)\n",
    "cv2.imshow(\"Canny Edges\", canny)\n",
    "cv2.waitKey(0)\n",
    "cv2.destroyAllWindows()"
   ]
  },
  {
   "cell_type": "code",
   "execution_count": 15,
   "id": "3972329f",
   "metadata": {},
   "outputs": [],
   "source": [
    "# Edge Dilation \n",
    "dilate = cv2.dilate(canny, (7,7), iterations=2)\n",
    "cv2.imshow(\"Dilated\", dilate)\n",
    "cv2.waitKey(0)\n",
    "cv2.destroyAllWindows()"
   ]
  },
  {
   "cell_type": "code",
   "execution_count": 16,
   "id": "df4cd0ef",
   "metadata": {},
   "outputs": [],
   "source": [
    "# Eroding Edges\n",
    "eroded = cv2.erode(dilate, (7,7), iterations=2)\n",
    "cv2.imshow(\"Eroded\", eroded)\n",
    "cv2.waitKey(0)\n",
    "cv2.destroyAllWindows()"
   ]
  },
  {
   "cell_type": "code",
   "execution_count": 17,
   "id": "b029af77",
   "metadata": {},
   "outputs": [],
   "source": [
    "# Resizing image\n",
    "resize = cv2.resize(img, (500,500), interpolation=cv2.INTER_CUBIC)\n",
    "cv2.imshow(\"Resized\", resize)\n",
    "cv2.waitKey(0)\n",
    "cv2.destroyAllWindows()"
   ]
  },
  {
   "cell_type": "markdown",
   "id": "c1be7234",
   "metadata": {},
   "source": [
    "# Blurring Techniques"
   ]
  },
  {
   "cell_type": "code",
   "execution_count": null,
   "id": "addfd680",
   "metadata": {},
   "outputs": [],
   "source": [
    "# Normal/Average Blur\n",
    "avg = cv2.blur(img,(5,5))\n",
    "cv2.imshow(\"Average Blur\",avg)\n",
    "cv2.waitKey(0)\n",
    "cv2.destroyAllWindows()"
   ]
  },
  {
   "cell_type": "code",
   "execution_count": null,
   "id": "90d46355",
   "metadata": {},
   "outputs": [],
   "source": [
    "# Gaussian Blur\n",
    "gauss = cv2.GaussianBlur(img,(5,5),1)\n",
    "cv2.imshow(\"Gaussian Blur\", gauss)\n",
    "cv2.waitKey(0)\n",
    "cv2.destroyAllWindows()"
   ]
  },
  {
   "cell_type": "code",
   "execution_count": null,
   "id": "3abb13f1",
   "metadata": {},
   "outputs": [],
   "source": [
    "# Median Blur\n",
    "med = cv2.medianBlur(img,5)\n",
    "cv2.imshow(\"Median Blur\", med)\n",
    "cv2.waitKey(0)\n",
    "cv2.destroyAllWindows()"
   ]
  },
  {
   "cell_type": "code",
   "execution_count": null,
   "id": "dd689b05",
   "metadata": {},
   "outputs": [],
   "source": [
    "# Bilateral\n",
    "bilat = cv2.bilateralFilter(img, 5, 15, 15)\n",
    "cv2.imshow(\"Bilateral Blur\",bilat)\n",
    "cv2.waitKey(0)\n",
    "cv2.destroyAllWindows()"
   ]
  },
  {
   "cell_type": "code",
   "execution_count": null,
   "id": "d7bfd3f6",
   "metadata": {},
   "outputs": [],
   "source": [
    "# Comparing All these\n",
    "cv2.imshow(\"Average Blur\",avg)\n",
    "cv2.imshow(\"Gaussian Blur\", gauss)\n",
    "cv2.imshow(\"Median Blur\", med)\n",
    "cv2.imshow(\"Bilateral Blur\",bilat)\n",
    "cv2.imshow(\"Park\", img)\n",
    "cv2.waitKey(0)\n",
    "cv2.destroyAllWindows()"
   ]
  },
  {
   "cell_type": "markdown",
   "id": "482549fe",
   "metadata": {},
   "source": [
    "# Advance Edge Detection"
   ]
  },
  {
   "cell_type": "code",
   "execution_count": null,
   "id": "40926360",
   "metadata": {
    "vscode": {
     "languageId": "plaintext"
    }
   },
   "outputs": [],
   "source": []
  }
 ],
 "metadata": {
  "kernelspec": {
   "display_name": "Python 3 (ipykernel)",
   "language": "python",
   "name": "python3"
  },
  "language_info": {
   "codemirror_mode": {
    "name": "ipython",
    "version": 3
   },
   "file_extension": ".py",
   "mimetype": "text/x-python",
   "name": "python",
   "nbconvert_exporter": "python",
   "pygments_lexer": "ipython3",
   "version": "3.11.5"
  }
 },
 "nbformat": 4,
 "nbformat_minor": 5
}
