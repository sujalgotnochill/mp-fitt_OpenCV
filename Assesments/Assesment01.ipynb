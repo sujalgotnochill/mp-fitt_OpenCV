{
 "cells": [
  {
   "cell_type": "markdown",
   "metadata": {},
   "source": [
    "# Local Binary Pattern (LBP)"
   ]
  },
  {
   "cell_type": "code",
   "execution_count": 2,
   "metadata": {},
   "outputs": [],
   "source": [
    "import numpy as np\n",
    "import cv2\n",
    "import matplotlib.pyplot as plt\n",
    "# import sklearn"
   ]
  },
  {
   "cell_type": "code",
   "execution_count": 3,
   "metadata": {},
   "outputs": [],
   "source": [
    "img = cv2.imread('test.png', cv2.IMREAD_GRAYSCALE)"
   ]
  },
  {
   "cell_type": "code",
   "execution_count": 4,
   "metadata": {},
   "outputs": [],
   "source": [
    "cv2.imshow('image',img)\n",
    "cv2.waitKey(0)\n",
    "cv2.destroyAllWindows()"
   ]
  },
  {
   "cell_type": "code",
   "execution_count": 5,
   "metadata": {},
   "outputs": [],
   "source": [
    "# gray = cv2.cvtColor(img, cv2.COLOR_RGB2GRAY)\n",
    "# cv2.imshow('Grayscale image',gray)\n",
    "# cv2.waitKey(0)\n",
    "# cv2.destroyAllWindows()"
   ]
  },
  {
   "cell_type": "code",
   "execution_count": 6,
   "metadata": {},
   "outputs": [
    {
     "data": {
      "text/plain": [
       "255"
      ]
     },
     "execution_count": 6,
     "metadata": {},
     "output_type": "execute_result"
    }
   ],
   "source": [
    "img[0][0]"
   ]
  },
  {
   "cell_type": "code",
   "execution_count": 15,
   "metadata": {},
   "outputs": [
    {
     "name": "stdout",
     "output_type": "stream",
     "text": [
      "535 359\n"
     ]
    }
   ],
   "source": [
    "height, width = img.shape\n",
    "print(width, height)"
   ]
  },
  {
   "cell_type": "code",
   "execution_count": null,
   "metadata": {},
   "outputs": [],
   "source": [
    "def LBP_3x3(img):\n",
    "    img_arr = np.array(img)\n",
    "    height, width = img_arr.shape\n",
    "    for i in range(0, height-2):\n",
    "        for j in range(0, width-2):\n",
    "            center = img[x+1][y+1]\n",
    "            if img[x][y] >= center:\n",
    "                img[x][y] = 1\n",
    "            else:\n",
    "                img[x][y] = 0\n",
    "            \n",
    "            if img[x][y+1] >= center:\n",
    "                img[x][y+1] = 1\n",
    "            else:\n",
    "                img[x][y+1] = 0\n",
    "            \n",
    "            if img[x][y+2] >= center:\n",
    "                img[x][y+2] = 1\n",
    "            else:\n",
    "                img[x][y+2] = 0\n",
    "            \n",
    "            if img[x+1][y+2] >= center:\n",
    "                img[x+1][y+2] = 1\n",
    "            else:\n",
    "                img[x+1][y+2] = 0\n",
    "            \n",
    "            if img[x+2][y] >= center:\n",
    "                "
   ]
  }
 ],
 "metadata": {
  "kernelspec": {
   "display_name": "base",
   "language": "python",
   "name": "python3"
  },
  "language_info": {
   "codemirror_mode": {
    "name": "ipython",
    "version": 3
   },
   "file_extension": ".py",
   "mimetype": "text/x-python",
   "name": "python",
   "nbconvert_exporter": "python",
   "pygments_lexer": "ipython3",
   "version": "3.11.5"
  }
 },
 "nbformat": 4,
 "nbformat_minor": 2
}
