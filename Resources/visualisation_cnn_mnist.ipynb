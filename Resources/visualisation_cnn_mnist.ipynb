{
  "cells": [
    {
      "cell_type": "code",
      "execution_count": 1,
      "metadata": {
        "id": "sRriGndZMWFZ"
      },
      "outputs": [
        {
          "name": "stdout",
          "output_type": "stream",
          "text": [
            "WARNING:tensorflow:From c:\\Users\\acer\\anaconda3\\Lib\\site-packages\\keras\\src\\losses.py:2976: The name tf.losses.sparse_softmax_cross_entropy is deprecated. Please use tf.compat.v1.losses.sparse_softmax_cross_entropy instead.\n",
            "\n"
          ]
        }
      ],
      "source": [
        "import numpy as np\n",
        "import tensorflow as tf\n",
        "from keras.datasets import mnist\n",
        "from tensorflow.keras.models import Sequential\n",
        "#from ann_visualizer.visualize import ann_viz\n",
        "from tensorflow.keras.layers import Conv2D, MaxPooling2D, Dense, Flatten\n",
        "from tensorflow.keras.utils import to_categorical\n",
        "import matplotlib.pyplot as plt"
      ]
    },
    {
      "cell_type": "code",
      "execution_count": 2,
      "metadata": {
        "id": "bMZDOjJ4NGgb"
      },
      "outputs": [],
      "source": [
        "from keras.callbacks import CSVLogger"
      ]
    },
    {
      "cell_type": "code",
      "execution_count": 3,
      "metadata": {
        "id": "D3dTqKoxNPoc"
      },
      "outputs": [],
      "source": [
        "csv_logger = CSVLogger(\"model_history_log.csv\", append=True)"
      ]
    },
    {
      "cell_type": "code",
      "execution_count": 4,
      "metadata": {
        "colab": {
          "base_uri": "https://localhost:8080/"
        },
        "id": "3zxfMpcJN1hm",
        "outputId": "f3a170b4-84df-4ac1-c767-59e3fe0bd676"
      },
      "outputs": [],
      "source": [
        "(train_images, train_labels), (test_images, test_labels) = mnist.load_data()"
      ]
    },
    {
      "cell_type": "code",
      "execution_count": 5,
      "metadata": {
        "colab": {
          "base_uri": "https://localhost:8080/"
        },
        "id": "ubqkfjnpOVoJ",
        "outputId": "a8ef6cc7-f822-453c-9055-d7fe68151270"
      },
      "outputs": [
        {
          "name": "stdout",
          "output_type": "stream",
          "text": [
            "60000\n",
            "10000\n"
          ]
        }
      ],
      "source": [
        "#loding the images\n",
        "#train_images = mnist.train_images()\n",
        "#train_labels = mnist.train_labels()\n",
        "print(len(train_labels))\n",
        "#test_images = mnist.test_images()\n",
        "#test_labels = mnist.test_labels()\n",
        "print(len(test_labels))\n",
        "\n",
        "# Normalize the images. Pixel values are between 0-255 in image learning it is\n",
        "# good practice to normalize your data to a smaller range like between 0 and 1.\n",
        "train_images = (train_images / 255) - 0.5\n",
        "#print(train_images)\n",
        "test_images = (test_images / 255) - 0.5\n",
        "#print(test_images)"
      ]
    },
    {
      "cell_type": "code",
      "execution_count": 6,
      "metadata": {
        "id": "0-TUCIOWO6fq"
      },
      "outputs": [
        {
          "name": "stdout",
          "output_type": "stream",
          "text": [
            "WARNING:tensorflow:From c:\\Users\\acer\\anaconda3\\Lib\\site-packages\\keras\\src\\backend.py:873: The name tf.get_default_graph is deprecated. Please use tf.compat.v1.get_default_graph instead.\n",
            "\n",
            "WARNING:tensorflow:From c:\\Users\\acer\\anaconda3\\Lib\\site-packages\\keras\\src\\layers\\pooling\\max_pooling2d.py:161: The name tf.nn.max_pool is deprecated. Please use tf.nn.max_pool2d instead.\n",
            "\n"
          ]
        }
      ],
      "source": [
        "#lets give the hyper parameters\n",
        "num_filters = 1\n",
        "filter_size = 9\n",
        "pool_size = 2\n",
        "\n",
        "# Model is being trained on 1875 batches of 32 images each, not 1875 images. 1875*32 = 60000 images\n",
        "# Build the model.\n",
        "model = Sequential([\n",
        "  Conv2D(num_filters, filter_size, input_shape=(28, 28, 1)),\n",
        "  MaxPooling2D(pool_size=pool_size),\n",
        "  Flatten(),\n",
        "  Dense(10, activation='softmax'),\n",
        "])"
      ]
    },
    {
      "cell_type": "code",
      "execution_count": 7,
      "metadata": {
        "id": "YJJM7sgjPPMe"
      },
      "outputs": [
        {
          "name": "stdout",
          "output_type": "stream",
          "text": [
            "WARNING:tensorflow:From c:\\Users\\acer\\anaconda3\\Lib\\site-packages\\keras\\src\\optimizers\\__init__.py:309: The name tf.train.Optimizer is deprecated. Please use tf.compat.v1.train.Optimizer instead.\n",
            "\n"
          ]
        }
      ],
      "source": [
        "# Compile the model.\n",
        "model.compile(\n",
        "  'adam',\n",
        "  loss='categorical_crossentropy',\n",
        "  metrics=['accuracy'],\n",
        ")"
      ]
    },
    {
      "cell_type": "code",
      "execution_count": 8,
      "metadata": {
        "colab": {
          "base_uri": "https://localhost:8080/"
        },
        "id": "XiFvhKhqPnEx",
        "outputId": "bfd10220-9860-440f-90a0-e73e2055fc6a"
      },
      "outputs": [
        {
          "data": {
            "text/plain": [
              "<keras.src.callbacks.EarlyStopping at 0x181485dcc50>"
            ]
          },
          "execution_count": 8,
          "metadata": {},
          "output_type": "execute_result"
        }
      ],
      "source": [
        "tf.keras.callbacks.EarlyStopping(\n",
        "      monitor=\"loss\",\n",
        "      min_delta=0,\n",
        "      patience=0,\n",
        "      verbose=0,\n",
        "      mode=\"auto\",\n",
        "      baseline=None,\n",
        "      restore_best_weights=False,\n",
        "    )"
      ]
    },
    {
      "cell_type": "code",
      "execution_count": 9,
      "metadata": {
        "id": "vyk41oHqQGos"
      },
      "outputs": [],
      "source": [
        "callback_1 = tf.keras.callbacks.EarlyStopping(monitor='loss', patience=2)"
      ]
    },
    {
      "cell_type": "code",
      "execution_count": 10,
      "metadata": {
        "colab": {
          "base_uri": "https://localhost:8080/"
        },
        "id": "Db5KWL28QO0a",
        "outputId": "84ca1014-1829-4020-d683-eb39f57de74d"
      },
      "outputs": [
        {
          "name": "stdout",
          "output_type": "stream",
          "text": [
            "Epoch 1/10\n",
            "WARNING:tensorflow:From c:\\Users\\acer\\anaconda3\\Lib\\site-packages\\keras\\src\\utils\\tf_utils.py:492: The name tf.ragged.RaggedTensorValue is deprecated. Please use tf.compat.v1.ragged.RaggedTensorValue instead.\n",
            "\n",
            "WARNING:tensorflow:From c:\\Users\\acer\\anaconda3\\Lib\\site-packages\\keras\\src\\engine\\base_layer_utils.py:384: The name tf.executing_eagerly_outside_functions is deprecated. Please use tf.compat.v1.executing_eagerly_outside_functions instead.\n",
            "\n",
            "1875/1875 [==============================] - 6s 3ms/step - loss: 0.5786 - accuracy: 0.8205 - val_loss: 0.3543 - val_accuracy: 0.8982\n",
            "Epoch 2/10\n",
            "1875/1875 [==============================] - 4s 2ms/step - loss: 0.3544 - accuracy: 0.8970 - val_loss: 0.3251 - val_accuracy: 0.9090\n",
            "Epoch 3/10\n",
            "1875/1875 [==============================] - 4s 2ms/step - loss: 0.3310 - accuracy: 0.9025 - val_loss: 0.3118 - val_accuracy: 0.9110\n",
            "Epoch 4/10\n",
            "1875/1875 [==============================] - 4s 2ms/step - loss: 0.3186 - accuracy: 0.9066 - val_loss: 0.2992 - val_accuracy: 0.9143\n",
            "Epoch 5/10\n",
            "1875/1875 [==============================] - 4s 2ms/step - loss: 0.3097 - accuracy: 0.9092 - val_loss: 0.2952 - val_accuracy: 0.9163\n",
            "Epoch 6/10\n",
            "1875/1875 [==============================] - 4s 2ms/step - loss: 0.3028 - accuracy: 0.9124 - val_loss: 0.2915 - val_accuracy: 0.9170\n",
            "Epoch 7/10\n",
            "1875/1875 [==============================] - 4s 2ms/step - loss: 0.2971 - accuracy: 0.9133 - val_loss: 0.2892 - val_accuracy: 0.9176\n",
            "Epoch 8/10\n",
            "1875/1875 [==============================] - 4s 2ms/step - loss: 0.2918 - accuracy: 0.9151 - val_loss: 0.2845 - val_accuracy: 0.9191\n",
            "Epoch 9/10\n",
            "1875/1875 [==============================] - 4s 2ms/step - loss: 0.2877 - accuracy: 0.9164 - val_loss: 0.2826 - val_accuracy: 0.9197\n",
            "Epoch 10/10\n",
            "1875/1875 [==============================] - 4s 2ms/step - loss: 0.2844 - accuracy: 0.9176 - val_loss: 0.2867 - val_accuracy: 0.9192\n"
          ]
        }
      ],
      "source": [
        "# Train the model.\n",
        "history = model.fit(\n",
        "  train_images,\n",
        "  to_categorical(train_labels),\n",
        "  epochs=10,\n",
        "  validation_data=(test_images, to_categorical(test_labels)),\n",
        "  callbacks=[csv_logger, callback_1],\n",
        ")"
      ]
    },
    {
      "cell_type": "code",
      "execution_count": 11,
      "metadata": {
        "colab": {
          "base_uri": "https://localhost:8080/"
        },
        "id": "cabpg0nYRUiq",
        "outputId": "f14b8c5f-0be9-4cdf-80dc-cc95bab05640"
      },
      "outputs": [
        {
          "name": "stdout",
          "output_type": "stream",
          "text": [
            "Model: \"sequential\"\n",
            "_________________________________________________________________\n",
            " Layer (type)                Output Shape              Param #   \n",
            "=================================================================\n",
            " conv2d (Conv2D)             (None, 20, 20, 1)         82        \n",
            "                                                                 \n",
            " max_pooling2d (MaxPooling2  (None, 10, 10, 1)         0         \n",
            " D)                                                              \n",
            "                                                                 \n",
            " flatten (Flatten)           (None, 100)               0         \n",
            "                                                                 \n",
            " dense (Dense)               (None, 10)                1010      \n",
            "                                                                 \n",
            "=================================================================\n",
            "Total params: 1092 (4.27 KB)\n",
            "Trainable params: 1092 (4.27 KB)\n",
            "Non-trainable params: 0 (0.00 Byte)\n",
            "_________________________________________________________________\n"
          ]
        }
      ],
      "source": [
        "model.summary()"
      ]
    },
    {
      "cell_type": "code",
      "execution_count": 12,
      "metadata": {
        "id": "9GOaKHVmSFBa"
      },
      "outputs": [],
      "source": [
        "#Save the model:\n",
        "model.save_weights('cnn.h5')\n",
        "\n",
        "# Load the model's saved weights.\n",
        "model.load_weights('cnn.h5')"
      ]
    },
    {
      "cell_type": "code",
      "execution_count": 13,
      "metadata": {
        "colab": {
          "base_uri": "https://localhost:8080/"
        },
        "id": "gyVtIBd7STPT",
        "outputId": "4bc365d8-ca55-41e8-fd06-594ddf15f7fd"
      },
      "outputs": [
        {
          "name": "stdout",
          "output_type": "stream",
          "text": [
            "1/1 [==============================] - 0s 92ms/step\n",
            "[7 2 1 0 4 1 4 9 6 9]\n",
            "[7 2 1 0 4 1 4 9 5 9]\n"
          ]
        }
      ],
      "source": [
        "# Predict on the first 10 test images.\n",
        "predictions = model.predict(test_images[:10])\n",
        "\n",
        "# Print our model's predictions.\n",
        "print(np.argmax(predictions, axis=1)) # [7, 2, 1, 0, 4]\n",
        "\n",
        "# Check our predictions against the ground truths.\n",
        "print(test_labels[:10]) # [7, 2, 1, 0, 4]"
      ]
    },
    {
      "cell_type": "code",
      "execution_count": 14,
      "metadata": {
        "id": "rc0FEXW1SbTV"
      },
      "outputs": [],
      "source": [
        "#Callback records events into a History object.\n",
        "accuracy = history.history['accuracy']\n",
        "val_accuracy = history.history['val_accuracy']\n",
        "loss = history.history['loss']\n",
        "val_loss = history.history['val_loss']"
      ]
    },
    {
      "cell_type": "code",
      "execution_count": 15,
      "metadata": {
        "colab": {
          "base_uri": "https://localhost:8080/",
          "height": 887
        },
        "id": "pU5ongM1SuBr",
        "outputId": "0553cb65-4d2c-4c2e-c864-4832318df999"
      },
      "outputs": [
        {
          "data": {
            "image/png": "[encoded data removed]",
            "text/plain": [
              "<Figure size 640x480 with 1 Axes>"
            ]
          },
          "metadata": {},
          "output_type": "display_data"
        },
        {
          "data": {
            "image/png": "[encoded data removed]",
            "text/plain": [
              "<Figure size 640x480 with 1 Axes>"
            ]
          },
          "metadata": {},
          "output_type": "display_data"
        }
      ],
      "source": [
        "#The range of epochs, from 1 to the total number of epochs, is often used to plot the learning curves of the model.\n",
        "#the range function is used to generate a list of integers from 1 to the length of the accuracy list plus one.\n",
        "# This is because the accuracy list is typically recorded at the end of each epoch, starting from the first epoch.\n",
        "epochs = range(1, len(accuracy) + 1)\n",
        "\n",
        "plt.plot(epochs, accuracy, 'bo', label='Training acc')\n",
        "plt.plot(epochs, val_accuracy, 'b', label='Validation acc')\n",
        "plt.title('Training and validation accuracy')\n",
        "plt.legend()\n",
        "\n",
        "plt.figure()\n",
        "\n",
        "plt.plot(epochs, loss, 'bo', label='Training loss')\n",
        "plt.plot(epochs, val_loss, 'b', label='Validation loss')\n",
        "plt.title('Training and validation loss')\n",
        "plt.legend()\n",
        "\n",
        "plt.show()"
      ]
    },
    {
      "cell_type": "code",
      "execution_count": 16,
      "metadata": {
        "colab": {
          "base_uri": "https://localhost:8080/",
          "height": 533
        },
        "id": "67rf2PHuFLAG",
        "outputId": "d2901f81-e72a-42e5-ea51-88b55fe3d7d0"
      },
      "outputs": [
        {
          "ename": "AttributeError",
          "evalue": "module 'pydot' has no attribute 'InvocationException'",
          "output_type": "error",
          "traceback": [
            "\u001b[1;31m---------------------------------------------------------------------------\u001b[0m",
            "\u001b[1;31mFileNotFoundError\u001b[0m                         Traceback (most recent call last)",
            "File \u001b[1;32mc:\\Users\\acer\\anaconda3\\Lib\\site-packages\\pydot\\core.py:1753\u001b[0m, in \u001b[0;36mDot.create\u001b[1;34m(self, prog, format, encoding)\u001b[0m\n\u001b[0;32m   1752\u001b[0m \u001b[38;5;28;01mtry\u001b[39;00m:\n\u001b[1;32m-> 1753\u001b[0m     stdout_data, stderr_data, process \u001b[38;5;241m=\u001b[39m call_graphviz(\n\u001b[0;32m   1754\u001b[0m         program\u001b[38;5;241m=\u001b[39mprog,\n\u001b[0;32m   1755\u001b[0m         arguments\u001b[38;5;241m=\u001b[39marguments,\n\u001b[0;32m   1756\u001b[0m         working_dir\u001b[38;5;241m=\u001b[39mtmp_dir,\n\u001b[0;32m   1757\u001b[0m     )\n\u001b[0;32m   1758\u001b[0m \u001b[38;5;28;01mexcept\u001b[39;00m \u001b[38;5;167;01mOSError\u001b[39;00m \u001b[38;5;28;01mas\u001b[39;00m e:\n",
            "File \u001b[1;32mc:\\Users\\acer\\anaconda3\\Lib\\site-packages\\pydot\\core.py:133\u001b[0m, in \u001b[0;36mcall_graphviz\u001b[1;34m(program, arguments, working_dir, **kwargs)\u001b[0m\n\u001b[0;32m    131\u001b[0m program_with_args \u001b[38;5;241m=\u001b[39m [program] \u001b[38;5;241m+\u001b[39m arguments\n\u001b[1;32m--> 133\u001b[0m process \u001b[38;5;241m=\u001b[39m subprocess\u001b[38;5;241m.\u001b[39mPopen(\n\u001b[0;32m    134\u001b[0m     program_with_args,\n\u001b[0;32m    135\u001b[0m     env\u001b[38;5;241m=\u001b[39menv,\n\u001b[0;32m    136\u001b[0m     cwd\u001b[38;5;241m=\u001b[39mworking_dir,\n\u001b[0;32m    137\u001b[0m     shell\u001b[38;5;241m=\u001b[39m\u001b[38;5;28;01mFalse\u001b[39;00m,\n\u001b[0;32m    138\u001b[0m     stderr\u001b[38;5;241m=\u001b[39msubprocess\u001b[38;5;241m.\u001b[39mPIPE,\n\u001b[0;32m    139\u001b[0m     stdout\u001b[38;5;241m=\u001b[39msubprocess\u001b[38;5;241m.\u001b[39mPIPE,\n\u001b[0;32m    140\u001b[0m     \u001b[38;5;241m*\u001b[39m\u001b[38;5;241m*\u001b[39mkwargs,\n\u001b[0;32m    141\u001b[0m )\n\u001b[0;32m    142\u001b[0m stdout_data, stderr_data \u001b[38;5;241m=\u001b[39m process\u001b[38;5;241m.\u001b[39mcommunicate()\n",
            "File \u001b[1;32mc:\\Users\\acer\\anaconda3\\Lib\\subprocess.py:1026\u001b[0m, in \u001b[0;36mPopen.__init__\u001b[1;34m(self, args, bufsize, executable, stdin, stdout, stderr, preexec_fn, close_fds, shell, cwd, env, universal_newlines, startupinfo, creationflags, restore_signals, start_new_session, pass_fds, user, group, extra_groups, encoding, errors, text, umask, pipesize, process_group)\u001b[0m\n\u001b[0;32m   1023\u001b[0m             \u001b[38;5;28mself\u001b[39m\u001b[38;5;241m.\u001b[39mstderr \u001b[38;5;241m=\u001b[39m io\u001b[38;5;241m.\u001b[39mTextIOWrapper(\u001b[38;5;28mself\u001b[39m\u001b[38;5;241m.\u001b[39mstderr,\n\u001b[0;32m   1024\u001b[0m                     encoding\u001b[38;5;241m=\u001b[39mencoding, errors\u001b[38;5;241m=\u001b[39merrors)\n\u001b[1;32m-> 1026\u001b[0m     \u001b[38;5;28mself\u001b[39m\u001b[38;5;241m.\u001b[39m_execute_child(args, executable, preexec_fn, close_fds,\n\u001b[0;32m   1027\u001b[0m                         pass_fds, cwd, env,\n\u001b[0;32m   1028\u001b[0m                         startupinfo, creationflags, shell,\n\u001b[0;32m   1029\u001b[0m                         p2cread, p2cwrite,\n\u001b[0;32m   1030\u001b[0m                         c2pread, c2pwrite,\n\u001b[0;32m   1031\u001b[0m                         errread, errwrite,\n\u001b[0;32m   1032\u001b[0m                         restore_signals,\n\u001b[0;32m   1033\u001b[0m                         gid, gids, uid, umask,\n\u001b[0;32m   1034\u001b[0m                         start_new_session, process_group)\n\u001b[0;32m   1035\u001b[0m \u001b[38;5;28;01mexcept\u001b[39;00m:\n\u001b[0;32m   1036\u001b[0m     \u001b[38;5;66;03m# Cleanup if the child failed starting.\u001b[39;00m\n",
            "File \u001b[1;32mc:\\Users\\acer\\anaconda3\\Lib\\subprocess.py:1538\u001b[0m, in \u001b[0;36mPopen._execute_child\u001b[1;34m(self, args, executable, preexec_fn, close_fds, pass_fds, cwd, env, startupinfo, creationflags, shell, p2cread, p2cwrite, c2pread, c2pwrite, errread, errwrite, unused_restore_signals, unused_gid, unused_gids, unused_uid, unused_umask, unused_start_new_session, unused_process_group)\u001b[0m\n\u001b[0;32m   1537\u001b[0m \u001b[38;5;28;01mtry\u001b[39;00m:\n\u001b[1;32m-> 1538\u001b[0m     hp, ht, pid, tid \u001b[38;5;241m=\u001b[39m _winapi\u001b[38;5;241m.\u001b[39mCreateProcess(executable, args,\n\u001b[0;32m   1539\u001b[0m                              \u001b[38;5;66;03m# no special security\u001b[39;00m\n\u001b[0;32m   1540\u001b[0m                              \u001b[38;5;28;01mNone\u001b[39;00m, \u001b[38;5;28;01mNone\u001b[39;00m,\n\u001b[0;32m   1541\u001b[0m                              \u001b[38;5;28mint\u001b[39m(\u001b[38;5;129;01mnot\u001b[39;00m close_fds),\n\u001b[0;32m   1542\u001b[0m                              creationflags,\n\u001b[0;32m   1543\u001b[0m                              env,\n\u001b[0;32m   1544\u001b[0m                              cwd,\n\u001b[0;32m   1545\u001b[0m                              startupinfo)\n\u001b[0;32m   1546\u001b[0m \u001b[38;5;28;01mfinally\u001b[39;00m:\n\u001b[0;32m   1547\u001b[0m     \u001b[38;5;66;03m# Child is launched. Close the parent's copy of those pipe\u001b[39;00m\n\u001b[0;32m   1548\u001b[0m     \u001b[38;5;66;03m# handles that only the child should have open.  You need\u001b[39;00m\n\u001b[1;32m   (...)\u001b[0m\n\u001b[0;32m   1551\u001b[0m     \u001b[38;5;66;03m# pipe will not close when the child process exits and the\u001b[39;00m\n\u001b[0;32m   1552\u001b[0m     \u001b[38;5;66;03m# ReadFile will hang.\u001b[39;00m\n",
            "\u001b[1;31mFileNotFoundError\u001b[0m: [WinError 2] The system cannot find the file specified",
            "\nDuring handling of the above exception, another exception occurred:\n",
            "\u001b[1;31mFileNotFoundError\u001b[0m                         Traceback (most recent call last)",
            "File \u001b[1;32mc:\\Users\\acer\\anaconda3\\Lib\\site-packages\\keras\\src\\utils\\vis_utils.py:57\u001b[0m, in \u001b[0;36mcheck_graphviz\u001b[1;34m()\u001b[0m\n\u001b[0;32m     54\u001b[0m \u001b[38;5;28;01mtry\u001b[39;00m:\n\u001b[0;32m     55\u001b[0m     \u001b[38;5;66;03m# Attempt to create an image of a blank graph\u001b[39;00m\n\u001b[0;32m     56\u001b[0m     \u001b[38;5;66;03m# to check the pydot/graphviz installation.\u001b[39;00m\n\u001b[1;32m---> 57\u001b[0m     pydot\u001b[38;5;241m.\u001b[39mDot\u001b[38;5;241m.\u001b[39mcreate(pydot\u001b[38;5;241m.\u001b[39mDot())\n\u001b[0;32m     58\u001b[0m     \u001b[38;5;28;01mreturn\u001b[39;00m \u001b[38;5;28;01mTrue\u001b[39;00m\n",
            "File \u001b[1;32mc:\\Users\\acer\\anaconda3\\Lib\\site-packages\\pydot\\core.py:1762\u001b[0m, in \u001b[0;36mDot.create\u001b[1;34m(self, prog, format, encoding)\u001b[0m\n\u001b[0;32m   1761\u001b[0m     args[\u001b[38;5;241m1\u001b[39m] \u001b[38;5;241m=\u001b[39m \u001b[38;5;124m'\u001b[39m\u001b[38;5;124m\"\u001b[39m\u001b[38;5;132;01m{prog}\u001b[39;00m\u001b[38;5;124m\"\u001b[39m\u001b[38;5;124m not found in path.\u001b[39m\u001b[38;5;124m'\u001b[39m\u001b[38;5;241m.\u001b[39mformat(prog\u001b[38;5;241m=\u001b[39mprog)\n\u001b[1;32m-> 1762\u001b[0m     \u001b[38;5;28;01mraise\u001b[39;00m \u001b[38;5;167;01mOSError\u001b[39;00m(\u001b[38;5;241m*\u001b[39margs)\n\u001b[0;32m   1763\u001b[0m \u001b[38;5;28;01melse\u001b[39;00m:\n",
            "\u001b[1;31mFileNotFoundError\u001b[0m: [WinError 2] \"dot\" not found in path.",
            "\nDuring handling of the above exception, another exception occurred:\n",
            "\u001b[1;31mAttributeError\u001b[0m                            Traceback (most recent call last)",
            "Cell \u001b[1;32mIn[16], line 2\u001b[0m\n\u001b[0;32m      1\u001b[0m \u001b[38;5;28;01mfrom\u001b[39;00m \u001b[38;5;21;01mtensorflow\u001b[39;00m\u001b[38;5;21;01m.\u001b[39;00m\u001b[38;5;21;01mkeras\u001b[39;00m\u001b[38;5;21;01m.\u001b[39;00m\u001b[38;5;21;01mutils\u001b[39;00m \u001b[38;5;28;01mimport\u001b[39;00m plot_model\n\u001b[1;32m----> 2\u001b[0m plot_model(model, to_file\u001b[38;5;241m=\u001b[39m\u001b[38;5;124m'\u001b[39m\u001b[38;5;124mmodel_plot.png\u001b[39m\u001b[38;5;124m'\u001b[39m, show_shapes\u001b[38;5;241m=\u001b[39m\u001b[38;5;28;01mTrue\u001b[39;00m, show_layer_names\u001b[38;5;241m=\u001b[39m\u001b[38;5;28;01mTrue\u001b[39;00m)\n",
            "File \u001b[1;32mc:\\Users\\acer\\anaconda3\\Lib\\site-packages\\keras\\src\\utils\\vis_utils.py:451\u001b[0m, in \u001b[0;36mplot_model\u001b[1;34m(model, to_file, show_shapes, show_dtype, show_layer_names, rankdir, expand_nested, dpi, layer_range, show_layer_activations, show_trainable)\u001b[0m\n\u001b[0;32m    444\u001b[0m \u001b[38;5;28;01mif\u001b[39;00m \u001b[38;5;129;01mnot\u001b[39;00m model\u001b[38;5;241m.\u001b[39mbuilt:\n\u001b[0;32m    445\u001b[0m     \u001b[38;5;28;01mraise\u001b[39;00m \u001b[38;5;167;01mValueError\u001b[39;00m(\n\u001b[0;32m    446\u001b[0m         \u001b[38;5;124m\"\u001b[39m\u001b[38;5;124mThis model has not yet been built. \u001b[39m\u001b[38;5;124m\"\u001b[39m\n\u001b[0;32m    447\u001b[0m         \u001b[38;5;124m\"\u001b[39m\u001b[38;5;124mBuild the model first by calling `build()` or by calling \u001b[39m\u001b[38;5;124m\"\u001b[39m\n\u001b[0;32m    448\u001b[0m         \u001b[38;5;124m\"\u001b[39m\u001b[38;5;124mthe model on a batch of data.\u001b[39m\u001b[38;5;124m\"\u001b[39m\n\u001b[0;32m    449\u001b[0m     )\n\u001b[1;32m--> 451\u001b[0m \u001b[38;5;28;01mif\u001b[39;00m \u001b[38;5;129;01mnot\u001b[39;00m check_graphviz():\n\u001b[0;32m    452\u001b[0m     message \u001b[38;5;241m=\u001b[39m (\n\u001b[0;32m    453\u001b[0m         \u001b[38;5;124m\"\u001b[39m\u001b[38;5;124mYou must install pydot (`pip install pydot`) \u001b[39m\u001b[38;5;124m\"\u001b[39m\n\u001b[0;32m    454\u001b[0m         \u001b[38;5;124m\"\u001b[39m\u001b[38;5;124mand install graphviz \u001b[39m\u001b[38;5;124m\"\u001b[39m\n\u001b[0;32m    455\u001b[0m         \u001b[38;5;124m\"\u001b[39m\u001b[38;5;124m(see instructions at https://graphviz.gitlab.io/download/) \u001b[39m\u001b[38;5;124m\"\u001b[39m\n\u001b[0;32m    456\u001b[0m         \u001b[38;5;124m\"\u001b[39m\u001b[38;5;124mfor plot_model to work.\u001b[39m\u001b[38;5;124m\"\u001b[39m\n\u001b[0;32m    457\u001b[0m     )\n\u001b[0;32m    458\u001b[0m     \u001b[38;5;28;01mif\u001b[39;00m \u001b[38;5;124m\"\u001b[39m\u001b[38;5;124mIPython.core.magics.namespace\u001b[39m\u001b[38;5;124m\"\u001b[39m \u001b[38;5;129;01min\u001b[39;00m sys\u001b[38;5;241m.\u001b[39mmodules:\n\u001b[0;32m    459\u001b[0m         \u001b[38;5;66;03m# We don't raise an exception here in order to avoid crashing\u001b[39;00m\n\u001b[0;32m    460\u001b[0m         \u001b[38;5;66;03m# notebook tests where graphviz is not available.\u001b[39;00m\n",
            "File \u001b[1;32mc:\\Users\\acer\\anaconda3\\Lib\\site-packages\\keras\\src\\utils\\vis_utils.py:59\u001b[0m, in \u001b[0;36mcheck_graphviz\u001b[1;34m()\u001b[0m\n\u001b[0;32m     57\u001b[0m     pydot\u001b[38;5;241m.\u001b[39mDot\u001b[38;5;241m.\u001b[39mcreate(pydot\u001b[38;5;241m.\u001b[39mDot())\n\u001b[0;32m     58\u001b[0m     \u001b[38;5;28;01mreturn\u001b[39;00m \u001b[38;5;28;01mTrue\u001b[39;00m\n\u001b[1;32m---> 59\u001b[0m \u001b[38;5;28;01mexcept\u001b[39;00m (\u001b[38;5;167;01mOSError\u001b[39;00m, pydot\u001b[38;5;241m.\u001b[39mInvocationException):\n\u001b[0;32m     60\u001b[0m     \u001b[38;5;28;01mreturn\u001b[39;00m \u001b[38;5;28;01mFalse\u001b[39;00m\n",
            "\u001b[1;31mAttributeError\u001b[0m: module 'pydot' has no attribute 'InvocationException'"
          ]
        }
      ],
      "source": [
        "from tensorflow.keras.utils import plot_model\n",
        "plot_model(model, to_file='model_plot.png', show_shapes=True, show_layer_names=True)"
      ]
    },
    {
      "cell_type": "code",
      "execution_count": 17,
      "metadata": {
        "colab": {
          "base_uri": "https://localhost:8080/"
        },
        "id": "WoxAjEdQbWkT",
        "outputId": "30cf8027-0ed7-4548-fa34-a56b843534db"
      },
      "outputs": [
        {
          "name": "stderr",
          "output_type": "stream",
          "text": [
            "Cloning into 'tf_keras_gradcamplusplus'...\n"
          ]
        }
      ],
      "source": [
        "! git clone https://github.com/samson6460/tf_keras_gradcamplusplus"
      ]
    },
    {
      "cell_type": "code",
      "execution_count": 18,
      "metadata": {
        "colab": {
          "base_uri": "https://localhost:8080/"
        },
        "id": "t49ABd0pY5c1",
        "outputId": "2dfc6100-80f7-4f76-bdac-473f230abb53"
      },
      "outputs": [
        {
          "name": "stdout",
          "output_type": "stream",
          "text": [
            "d:\\Computer Vision\\tf_keras_gradcamplusplus\n"
          ]
        }
      ],
      "source": [
        "%cd tf_keras_gradcamplusplus"
      ]
    },
    {
      "cell_type": "code",
      "execution_count": 19,
      "metadata": {
        "colab": {
          "base_uri": "https://localhost:8080/"
        },
        "id": "-MQm3m2QByEz",
        "outputId": "7f5437a8-6f6e-47e4-9926-a76f6bb09857"
      },
      "outputs": [
        {
          "name": "stdout",
          "output_type": "stream",
          "text": [
            "Requirement already satisfied: tensorflow>=2.0.0 in c:\\users\\acer\\anaconda3\\lib\\site-packages (from -r requirement.txt (line 1)) (2.15.0)\n",
            "Collecting opencv-python (from -r requirement.txt (line 2))\n",
            "  Downloading opencv_python-4.9.0.80-cp37-abi3-win_amd64.whl.metadata (20 kB)\n",
            "Requirement already satisfied: Pillow in c:\\users\\acer\\anaconda3\\lib\\site-packages (from -r requirement.txt (line 3)) (10.0.1)\n",
            "Requirement already satisfied: numpy in c:\\users\\acer\\anaconda3\\lib\\site-packages (from -r requirement.txt (line 4)) (1.24.3)\n",
            "Requirement already satisfied: tensorflow-intel==2.15.0 in c:\\users\\acer\\anaconda3\\lib\\site-packages (from tensorflow>=2.0.0->-r requirement.txt (line 1)) (2.15.0)\n",
            "Requirement already satisfied: absl-py>=1.0.0 in c:\\users\\acer\\anaconda3\\lib\\site-packages (from tensorflow-intel==2.15.0->tensorflow>=2.0.0->-r requirement.txt (line 1)) (2.0.0)\n",
            "Requirement already satisfied: astunparse>=1.6.0 in c:\\users\\acer\\anaconda3\\lib\\site-packages (from tensorflow-intel==2.15.0->tensorflow>=2.0.0->-r requirement.txt (line 1)) (1.6.3)\n",
            "Requirement already satisfied: flatbuffers>=23.5.26 in c:\\users\\acer\\anaconda3\\lib\\site-packages (from tensorflow-intel==2.15.0->tensorflow>=2.0.0->-r requirement.txt (line 1)) (23.5.26)\n",
            "Requirement already satisfied: gast!=0.5.0,!=0.5.1,!=0.5.2,>=0.2.1 in c:\\users\\acer\\anaconda3\\lib\\site-packages (from tensorflow-intel==2.15.0->tensorflow>=2.0.0->-r requirement.txt (line 1)) (0.5.4)\n",
            "Requirement already satisfied: google-pasta>=0.1.1 in c:\\users\\acer\\anaconda3\\lib\\site-packages (from tensorflow-intel==2.15.0->tensorflow>=2.0.0->-r requirement.txt (line 1)) (0.2.0)\n",
            "Requirement already satisfied: h5py>=2.9.0 in c:\\users\\acer\\anaconda3\\lib\\site-packages (from tensorflow-intel==2.15.0->tensorflow>=2.0.0->-r requirement.txt (line 1)) (3.9.0)\n",
            "Requirement already satisfied: libclang>=13.0.0 in c:\\users\\acer\\anaconda3\\lib\\site-packages (from tensorflow-intel==2.15.0->tensorflow>=2.0.0->-r requirement.txt (line 1)) (16.0.6)\n",
            "Requirement already satisfied: ml-dtypes~=0.2.0 in c:\\users\\acer\\anaconda3\\lib\\site-packages (from tensorflow-intel==2.15.0->tensorflow>=2.0.0->-r requirement.txt (line 1)) (0.2.0)\n",
            "Requirement already satisfied: opt-einsum>=2.3.2 in c:\\users\\acer\\anaconda3\\lib\\site-packages (from tensorflow-intel==2.15.0->tensorflow>=2.0.0->-r requirement.txt (line 1)) (3.3.0)\n",
            "Requirement already satisfied: packaging in c:\\users\\acer\\anaconda3\\lib\\site-packages (from tensorflow-intel==2.15.0->tensorflow>=2.0.0->-r requirement.txt (line 1)) (23.1)\n",
            "Requirement already satisfied: protobuf!=4.21.0,!=4.21.1,!=4.21.2,!=4.21.3,!=4.21.4,!=4.21.5,<5.0.0dev,>=3.20.3 in c:\\users\\acer\\anaconda3\\lib\\site-packages (from tensorflow-intel==2.15.0->tensorflow>=2.0.0->-r requirement.txt (line 1)) (4.23.4)\n",
            "Requirement already satisfied: setuptools in c:\\users\\acer\\anaconda3\\lib\\site-packages (from tensorflow-intel==2.15.0->tensorflow>=2.0.0->-r requirement.txt (line 1)) (68.0.0)\n",
            "Requirement already satisfied: six>=1.12.0 in c:\\users\\acer\\anaconda3\\lib\\site-packages (from tensorflow-intel==2.15.0->tensorflow>=2.0.0->-r requirement.txt (line 1)) (1.16.0)\n",
            "Requirement already satisfied: termcolor>=1.1.0 in c:\\users\\acer\\anaconda3\\lib\\site-packages (from tensorflow-intel==2.15.0->tensorflow>=2.0.0->-r requirement.txt (line 1)) (2.4.0)\n",
            "Requirement already satisfied: typing-extensions>=3.6.6 in c:\\users\\acer\\anaconda3\\lib\\site-packages (from tensorflow-intel==2.15.0->tensorflow>=2.0.0->-r requirement.txt (line 1)) (4.9.0)\n",
            "Requirement already satisfied: wrapt<1.15,>=1.11.0 in c:\\users\\acer\\anaconda3\\lib\\site-packages (from tensorflow-intel==2.15.0->tensorflow>=2.0.0->-r requirement.txt (line 1)) (1.14.1)\n",
            "Requirement already satisfied: tensorflow-io-gcs-filesystem>=0.23.1 in c:\\users\\acer\\anaconda3\\lib\\site-packages (from tensorflow-intel==2.15.0->tensorflow>=2.0.0->-r requirement.txt (line 1)) (0.31.0)\n",
            "Requirement already satisfied: grpcio<2.0,>=1.24.3 in c:\\users\\acer\\anaconda3\\lib\\site-packages (from tensorflow-intel==2.15.0->tensorflow>=2.0.0->-r requirement.txt (line 1)) (1.60.0)\n",
            "Requirement already satisfied: tensorboard<2.16,>=2.15 in c:\\users\\acer\\anaconda3\\lib\\site-packages (from tensorflow-intel==2.15.0->tensorflow>=2.0.0->-r requirement.txt (line 1)) (2.15.1)\n",
            "Requirement already satisfied: tensorflow-estimator<2.16,>=2.15.0 in c:\\users\\acer\\anaconda3\\lib\\site-packages (from tensorflow-intel==2.15.0->tensorflow>=2.0.0->-r requirement.txt (line 1)) (2.15.0)\n",
            "Requirement already satisfied: keras<2.16,>=2.15.0 in c:\\users\\acer\\anaconda3\\lib\\site-packages (from tensorflow-intel==2.15.0->tensorflow>=2.0.0->-r requirement.txt (line 1)) (2.15.0)\n",
            "Requirement already satisfied: wheel<1.0,>=0.23.0 in c:\\users\\acer\\anaconda3\\lib\\site-packages (from astunparse>=1.6.0->tensorflow-intel==2.15.0->tensorflow>=2.0.0->-r requirement.txt (line 1)) (0.38.4)\n",
            "Requirement already satisfied: google-auth<3,>=1.6.3 in c:\\users\\acer\\anaconda3\\lib\\site-packages (from tensorboard<2.16,>=2.15->tensorflow-intel==2.15.0->tensorflow>=2.0.0->-r requirement.txt (line 1)) (2.26.1)\n",
            "Requirement already satisfied: google-auth-oauthlib<2,>=0.5 in c:\\users\\acer\\anaconda3\\lib\\site-packages (from tensorboard<2.16,>=2.15->tensorflow-intel==2.15.0->tensorflow>=2.0.0->-r requirement.txt (line 1)) (1.2.0)\n",
            "Requirement already satisfied: markdown>=2.6.8 in c:\\users\\acer\\anaconda3\\lib\\site-packages (from tensorboard<2.16,>=2.15->tensorflow-intel==2.15.0->tensorflow>=2.0.0->-r requirement.txt (line 1)) (3.4.1)\n",
            "Requirement already satisfied: requests<3,>=2.21.0 in c:\\users\\acer\\anaconda3\\lib\\site-packages (from tensorboard<2.16,>=2.15->tensorflow-intel==2.15.0->tensorflow>=2.0.0->-r requirement.txt (line 1)) (2.31.0)\n",
            "Requirement already satisfied: tensorboard-data-server<0.8.0,>=0.7.0 in c:\\users\\acer\\anaconda3\\lib\\site-packages (from tensorboard<2.16,>=2.15->tensorflow-intel==2.15.0->tensorflow>=2.0.0->-r requirement.txt (line 1)) (0.7.2)\n",
            "Requirement already satisfied: werkzeug>=1.0.1 in c:\\users\\acer\\anaconda3\\lib\\site-packages (from tensorboard<2.16,>=2.15->tensorflow-intel==2.15.0->tensorflow>=2.0.0->-r requirement.txt (line 1)) (2.2.3)\n",
            "Requirement already satisfied: cachetools<6.0,>=2.0.0 in c:\\users\\acer\\anaconda3\\lib\\site-packages (from google-auth<3,>=1.6.3->tensorboard<2.16,>=2.15->tensorflow-intel==2.15.0->tensorflow>=2.0.0->-r requirement.txt (line 1)) (5.3.2)\n",
            "Requirement already satisfied: pyasn1-modules>=0.2.1 in c:\\users\\acer\\anaconda3\\lib\\site-packages (from google-auth<3,>=1.6.3->tensorboard<2.16,>=2.15->tensorflow-intel==2.15.0->tensorflow>=2.0.0->-r requirement.txt (line 1)) (0.2.8)\n",
            "Requirement already satisfied: rsa<5,>=3.1.4 in c:\\users\\acer\\anaconda3\\lib\\site-packages (from google-auth<3,>=1.6.3->tensorboard<2.16,>=2.15->tensorflow-intel==2.15.0->tensorflow>=2.0.0->-r requirement.txt (line 1)) (4.9)\n",
            "Requirement already satisfied: requests-oauthlib>=0.7.0 in c:\\users\\acer\\anaconda3\\lib\\site-packages (from google-auth-oauthlib<2,>=0.5->tensorboard<2.16,>=2.15->tensorflow-intel==2.15.0->tensorflow>=2.0.0->-r requirement.txt (line 1)) (1.3.1)\n",
            "Requirement already satisfied: charset-normalizer<4,>=2 in c:\\users\\acer\\anaconda3\\lib\\site-packages (from requests<3,>=2.21.0->tensorboard<2.16,>=2.15->tensorflow-intel==2.15.0->tensorflow>=2.0.0->-r requirement.txt (line 1)) (2.0.4)\n",
            "Requirement already satisfied: idna<4,>=2.5 in c:\\users\\acer\\anaconda3\\lib\\site-packages (from requests<3,>=2.21.0->tensorboard<2.16,>=2.15->tensorflow-intel==2.15.0->tensorflow>=2.0.0->-r requirement.txt (line 1)) (3.4)\n",
            "Requirement already satisfied: urllib3<3,>=1.21.1 in c:\\users\\acer\\anaconda3\\lib\\site-packages (from requests<3,>=2.21.0->tensorboard<2.16,>=2.15->tensorflow-intel==2.15.0->tensorflow>=2.0.0->-r requirement.txt (line 1)) (1.26.16)\n",
            "Requirement already satisfied: certifi>=2017.4.17 in c:\\users\\acer\\anaconda3\\lib\\site-packages (from requests<3,>=2.21.0->tensorboard<2.16,>=2.15->tensorflow-intel==2.15.0->tensorflow>=2.0.0->-r requirement.txt (line 1)) (2023.11.17)\n",
            "Requirement already satisfied: MarkupSafe>=2.1.1 in c:\\users\\acer\\anaconda3\\lib\\site-packages (from werkzeug>=1.0.1->tensorboard<2.16,>=2.15->tensorflow-intel==2.15.0->tensorflow>=2.0.0->-r requirement.txt (line 1)) (2.1.1)\n",
            "Requirement already satisfied: pyasn1<0.5.0,>=0.4.6 in c:\\users\\acer\\anaconda3\\lib\\site-packages (from pyasn1-modules>=0.2.1->google-auth<3,>=1.6.3->tensorboard<2.16,>=2.15->tensorflow-intel==2.15.0->tensorflow>=2.0.0->-r requirement.txt (line 1)) (0.4.8)\n",
            "Requirement already satisfied: oauthlib>=3.0.0 in c:\\users\\acer\\anaconda3\\lib\\site-packages (from requests-oauthlib>=0.7.0->google-auth-oauthlib<2,>=0.5->tensorboard<2.16,>=2.15->tensorflow-intel==2.15.0->tensorflow>=2.0.0->-r requirement.txt (line 1)) (3.2.2)\n",
            "Downloading opencv_python-4.9.0.80-cp37-abi3-win_amd64.whl (38.6 MB)\n",
            "   ---------------------------------------- 0.0/38.6 MB ? eta -:--:--\n",
            "   ---------------------------------------- 0.0/38.6 MB ? eta -:--:--\n",
            "   ---------------------------------------- 0.0/38.6 MB 445.2 kB/s eta 0:01:27\n",
            "   ---------------------------------------- 0.1/38.6 MB 563.7 kB/s eta 0:01:09\n",
            "   ---------------------------------------- 0.1/38.6 MB 853.3 kB/s eta 0:00:46\n",
            "   ---------------------------------------- 0.2/38.6 MB 1.1 MB/s eta 0:00:35\n",
            "   ---------------------------------------- 0.4/38.6 MB 1.6 MB/s eta 0:00:25\n",
            "    --------------------------------------- 0.5/38.6 MB 1.9 MB/s eta 0:00:21\n",
            "    --------------------------------------- 0.7/38.6 MB 2.0 MB/s eta 0:00:19\n",
            "   - -------------------------------------- 1.2/38.6 MB 2.9 MB/s eta 0:00:13\n",
            "   - -------------------------------------- 1.5/38.6 MB 3.4 MB/s eta 0:00:11\n",
            "   -- ------------------------------------- 2.3/38.6 MB 4.7 MB/s eta 0:00:08\n",
            "   -- ------------------------------------- 2.8/38.6 MB 5.3 MB/s eta 0:00:07\n",
            "   --- ------------------------------------ 3.7/38.6 MB 6.4 MB/s eta 0:00:06\n",
            "   ---- ----------------------------------- 4.4/38.6 MB 7.2 MB/s eta 0:00:05\n",
            "   ---- ----------------------------------- 4.4/38.6 MB 7.2 MB/s eta 0:00:05\n",
            "   ------ --------------------------------- 6.7/38.6 MB 9.4 MB/s eta 0:00:04\n",
            "   ------- -------------------------------- 7.4/38.6 MB 9.7 MB/s eta 0:00:04\n",
            "   -------- ------------------------------- 8.7/38.6 MB 10.6 MB/s eta 0:00:03\n",
            "   --------- ------------------------------ 9.6/38.6 MB 11.2 MB/s eta 0:00:03\n",
            "   ----------- ---------------------------- 10.8/38.6 MB 17.2 MB/s eta 0:00:02\n",
            "   ------------ --------------------------- 11.7/38.6 MB 19.8 MB/s eta 0:00:02\n",
            "   ------------- -------------------------- 12.7/38.6 MB 21.8 MB/s eta 0:00:02\n",
            "   ------------- -------------------------- 13.5/38.6 MB 22.6 MB/s eta 0:00:02\n",
            "   -------------- ------------------------- 14.4/38.6 MB 20.5 MB/s eta 0:00:02\n",
            "   --------------- ------------------------ 14.7/38.6 MB 24.2 MB/s eta 0:00:01\n",
            "   --------------- ------------------------ 15.1/38.6 MB 20.5 MB/s eta 0:00:02\n",
            "   ----------------- ---------------------- 17.3/38.6 MB 21.9 MB/s eta 0:00:01\n",
            "   ------------------ --------------------- 17.9/38.6 MB 20.5 MB/s eta 0:00:02\n",
            "   ------------------- -------------------- 19.0/38.6 MB 19.8 MB/s eta 0:00:01\n",
            "   -------------------- ------------------- 19.4/38.6 MB 19.2 MB/s eta 0:00:01\n",
            "   --------------------- ------------------ 20.3/38.6 MB 19.3 MB/s eta 0:00:01\n",
            "   --------------------- ------------------ 20.9/38.6 MB 18.7 MB/s eta 0:00:01\n",
            "   ---------------------- ----------------- 21.7/38.6 MB 18.2 MB/s eta 0:00:01\n",
            "   ----------------------- ---------------- 22.2/38.6 MB 18.7 MB/s eta 0:00:01\n",
            "   ------------------------ --------------- 23.3/38.6 MB 17.2 MB/s eta 0:00:01\n",
            "   ------------------------ --------------- 23.8/38.6 MB 16.8 MB/s eta 0:00:01\n",
            "   ------------------------- -------------- 24.4/38.6 MB 16.0 MB/s eta 0:00:01\n",
            "   -------------------------- ------------- 25.5/38.6 MB 18.2 MB/s eta 0:00:01\n",
            "   -------------------------- ------------- 25.9/38.6 MB 17.2 MB/s eta 0:00:01\n",
            "   --------------------------- ------------ 26.8/38.6 MB 16.4 MB/s eta 0:00:01\n",
            "   ---------------------------- ----------- 27.5/38.6 MB 15.6 MB/s eta 0:00:01\n",
            "   ----------------------------- ---------- 28.2/38.6 MB 16.0 MB/s eta 0:00:01\n",
            "   ------------------------------ --------- 29.3/38.6 MB 16.0 MB/s eta 0:00:01\n",
            "   ------------------------------- -------- 30.1/38.6 MB 16.4 MB/s eta 0:00:01\n",
            "   ------------------------------- -------- 30.8/38.6 MB 16.8 MB/s eta 0:00:01\n",
            "   -------------------------------- ------- 31.6/38.6 MB 16.8 MB/s eta 0:00:01\n",
            "   --------------------------------- ------ 32.3/38.6 MB 16.4 MB/s eta 0:00:01\n",
            "   ---------------------------------- ----- 33.4/38.6 MB 16.8 MB/s eta 0:00:01\n",
            "   ----------------------------------- ---- 34.0/38.6 MB 16.8 MB/s eta 0:00:01\n",
            "   ------------------------------------ --- 35.1/38.6 MB 17.3 MB/s eta 0:00:01\n",
            "   ------------------------------------ --- 35.7/38.6 MB 17.3 MB/s eta 0:00:01\n",
            "   ------------------------------------- -- 36.5/38.6 MB 17.2 MB/s eta 0:00:01\n",
            "   -------------------------------------- - 37.2/38.6 MB 17.7 MB/s eta 0:00:01\n",
            "   ---------------------------------------  37.9/38.6 MB 17.2 MB/s eta 0:00:01\n",
            "   ---------------------------------------  38.6/38.6 MB 17.2 MB/s eta 0:00:01\n",
            "   ---------------------------------------- 38.6/38.6 MB 16.0 MB/s eta 0:00:00\n",
            "Installing collected packages: opencv-python\n",
            "Successfully installed opencv-python-4.9.0.80\n"
          ]
        },
        {
          "name": "stderr",
          "output_type": "stream",
          "text": [
            "\n",
            "[notice] A new release of pip is available: 23.3.2 -> 24.0\n",
            "[notice] To update, run: python.exe -m pip install --upgrade pip\n"
          ]
        }
      ],
      "source": [
        "! pip install -r requirement.txt"
      ]
    },
    {
      "cell_type": "markdown",
      "metadata": {
        "id": "_6BrJP52vMCC"
      },
      "source": [
        "Since the gradcam code is hardwired for a specific layer, changing the layer argument below in the cell directly."
      ]
    },
    {
      "cell_type": "code",
      "execution_count": 20,
      "metadata": {
        "id": "KumBVOSdNAMD"
      },
      "outputs": [],
      "source": [
        "# Copyright 2020 Samson Woof\n",
        "\n",
        "# Licensed under the Apache License, Version 2.0 (the \"License\");\n",
        "# you may not use this file except in compliance with the License.\n",
        "# You may obtain a copy of the License at\n",
        "\n",
        "#     http://www.apache.org/licenses/LICENSE-2.0\n",
        "\n",
        "# Unless required by applicable law or agreed to in writing, software\n",
        "# distributed under the License is distributed on an \"AS IS\" BASIS,\n",
        "# WITHOUT WARRANTIES OR CONDITIONS OF ANY KIND, either express or implied.\n",
        "# See the License for the specific language governing permissions and\n",
        "# limitations under the License.\n",
        "# ==============================================================================\n",
        "\n",
        "import numpy as np\n",
        "import tensorflow as tf\n",
        "from tensorflow.keras.models import load_model\n",
        "from tensorflow.keras.preprocessing import image\n",
        "from tensorflow.keras import Model\n",
        "\n",
        "\n",
        "def grad_cam(model, img,\n",
        "             layer_name=\"conv2d_3\", label_name=None,\n",
        "             category_id=None):\n",
        "    \"\"\"Get a heatmap by Grad-CAM.\n",
        "\n",
        "    Args:\n",
        "        model: A model object, build from tf.keras 2.X.\n",
        "        img: An image ndarray.\n",
        "        layer_name: A string, layer name in model.\n",
        "        label_name: A list or None,\n",
        "            show the label name by assign this argument,\n",
        "            it should be a list of all label names.\n",
        "        category_id: An integer, index of the class.\n",
        "            Default is the category with the highest score in the prediction.\n",
        "\n",
        "    Return:\n",
        "        A heatmap ndarray(without color).\n",
        "    \"\"\"\n",
        "    img_tensor = np.expand_dims(img, axis=0)\n",
        "\n",
        "    conv_layer = model.get_layer(layer_name)\n",
        "    heatmap_model = Model([model.inputs], [conv_layer.output, model.output])\n",
        "\n",
        "    with tf.GradientTape() as gtape:\n",
        "        conv_output, predictions = heatmap_model(img_tensor)\n",
        "        if category_id is None:\n",
        "            category_id = np.argmax(predictions[0])\n",
        "        if label_name is not None:\n",
        "            print(label_name[category_id])\n",
        "        output = predictions[:, category_id]\n",
        "        grads = gtape.gradient(output, conv_output)\n",
        "        pooled_grads = tf.reduce_mean(grads, axis=(0, 1, 2))\n",
        "\n",
        "    heatmap = tf.reduce_mean(tf.multiply(pooled_grads, conv_output), axis=-1)\n",
        "    heatmap = np.maximum(heatmap, 0)\n",
        "    max_heat = np.max(heatmap)\n",
        "    if max_heat == 0:\n",
        "        max_heat = 1e-10\n",
        "    heatmap /= max_heat\n",
        "\n",
        "    return np.squeeze(heatmap)\n",
        "\n",
        "def grad_cam_plus(model, img,\n",
        "                  layer_name=\"conv2d_3\", label_name=None,\n",
        "                  category_id=None):\n",
        "    \"\"\"Get a heatmap by Grad-CAM++.\n",
        "\n",
        "    Args:\n",
        "        model: A model object, build from tf.keras 2.X.\n",
        "        img: An image ndarray.\n",
        "        layer_name: A string, layer name in model.\n",
        "        label_name: A list or None,\n",
        "            show the label name by assign this argument,\n",
        "            it should be a list of all label names.\n",
        "        category_id: An integer, index of the class.\n",
        "            Default is the category with the highest score in the prediction.\n",
        "\n",
        "    Return:\n",
        "        A heatmap ndarray(without color).\n",
        "    \"\"\"\n",
        "    img_tensor = np.expand_dims(img, axis=0)\n",
        "\n",
        "    conv_layer = model.get_layer(layer_name)\n",
        "    heatmap_model = Model([model.inputs], [conv_layer.output, model.output])\n",
        "\n",
        "    with tf.GradientTape() as gtape1:\n",
        "        with tf.GradientTape() as gtape2:\n",
        "            with tf.GradientTape() as gtape3:\n",
        "                conv_output, predictions = heatmap_model(img_tensor)\n",
        "                if category_id is None:\n",
        "                    category_id = np.argmax(predictions[0])\n",
        "                    print(category_id)\n",
        "                if label_name is not None:\n",
        "                    print(label_name[category_id])\n",
        "                output = predictions[:, category_id]\n",
        "                conv_first_grad = gtape3.gradient(output, conv_output)\n",
        "            conv_second_grad = gtape2.gradient(conv_first_grad, conv_output)\n",
        "        conv_third_grad = gtape1.gradient(conv_second_grad, conv_output)\n",
        "\n",
        "    global_sum = np.sum(conv_output, axis=(0, 1, 2))\n",
        "\n",
        "    alpha_num = conv_second_grad[0]\n",
        "    alpha_denom = conv_second_grad[0]*2.0 + conv_third_grad[0]*global_sum\n",
        "    alpha_denom = np.where(alpha_denom != 0.0, alpha_denom, 1e-10)\n",
        "\n",
        "    alphas = alpha_num/alpha_denom\n",
        "    alpha_normalization_constant = np.sum(alphas, axis=(0,1))\n",
        "    alphas /= alpha_normalization_constant\n",
        "\n",
        "    weights = np.maximum(conv_first_grad[0], 0.0)\n",
        "\n",
        "    deep_linearization_weights = np.sum(weights*alphas, axis=(0,1))\n",
        "    grad_cam_map = np.sum(deep_linearization_weights*conv_output[0], axis=2)\n",
        "\n",
        "    heatmap = np.maximum(grad_cam_map, 0)\n",
        "    max_heat = np.max(heatmap)\n",
        "    if max_heat == 0:\n",
        "        max_heat = 1e-10\n",
        "    heatmap /= max_heat\n",
        "\n",
        "    return heatmap\n"
      ]
    },
    {
      "cell_type": "markdown",
      "metadata": {
        "id": "M97rs-IQvIMU"
      },
      "source": [
        "The VGG model already available and trained for medical dataset.\n"
      ]
    },
    {
      "cell_type": "code",
      "execution_count": 30,
      "metadata": {
        "colab": {
          "base_uri": "https://localhost:8080/",
          "height": 1000
        },
        "id": "qd0jTCUBCIKG",
        "outputId": "47b816b9-da44-4d3f-b9b1-908b16703f56"
      },
      "outputs": [
        {
          "name": "stdout",
          "output_type": "stream",
          "text": [
            "Model: \"sequential\"\n",
            "_________________________________________________________________\n",
            " Layer (type)                Output Shape              Param #   \n",
            "=================================================================\n",
            " conv2d (Conv2D)             (None, 20, 20, 1)         82        \n",
            "                                                                 \n",
            " max_pooling2d (MaxPooling2  (None, 10, 10, 1)         0         \n",
            " D)                                                              \n",
            "                                                                 \n",
            " flatten (Flatten)           (None, 100)               0         \n",
            "                                                                 \n",
            " dense (Dense)               (None, 10)                1010      \n",
            "                                                                 \n",
            "=================================================================\n",
            "Total params: 1092 (4.27 KB)\n",
            "Trainable params: 1092 (4.27 KB)\n",
            "Non-trainable params: 0 (0.00 Byte)\n",
            "_________________________________________________________________\n"
          ]
        },
        {
          "ename": "FileNotFoundError",
          "evalue": "[Errno 2] No such file or directory: 'tf_keras_gradcamplusplus/images/4320878114_30a836d428_z.jpg'",
          "output_type": "error",
          "traceback": [
            "\u001b[1;31m---------------------------------------------------------------------------\u001b[0m",
            "\u001b[1;31mFileNotFoundError\u001b[0m                         Traceback (most recent call last)",
            "Cell \u001b[1;32mIn[30], line 9\u001b[0m\n\u001b[0;32m      7\u001b[0m \u001b[38;5;66;03m# %%\u001b[39;00m\n\u001b[0;32m      8\u001b[0m img_path \u001b[38;5;241m=\u001b[39m \u001b[38;5;124mr\u001b[39m\u001b[38;5;124m'\u001b[39m\u001b[38;5;124mtf_keras_gradcamplusplus/images/4320878114_30a836d428_z.jpg\u001b[39m\u001b[38;5;124m'\u001b[39m\n\u001b[1;32m----> 9\u001b[0m img \u001b[38;5;241m=\u001b[39m preprocess_image(img_path)\n\u001b[0;32m     11\u001b[0m \u001b[38;5;66;03m# %% result of grad cam\u001b[39;00m\n\u001b[0;32m     12\u001b[0m heatmap \u001b[38;5;241m=\u001b[39m grad_cam(model, test,\n\u001b[0;32m     13\u001b[0m                    label_name \u001b[38;5;241m=\u001b[39m [\u001b[38;5;124m'\u001b[39m\u001b[38;5;124mWRIST\u001b[39m\u001b[38;5;124m'\u001b[39m, \u001b[38;5;124m'\u001b[39m\u001b[38;5;124mELBOW\u001b[39m\u001b[38;5;124m'\u001b[39m, \u001b[38;5;124m'\u001b[39m\u001b[38;5;124mSHOULDER\u001b[39m\u001b[38;5;124m'\u001b[39m],\n\u001b[0;32m     14\u001b[0m                    \u001b[38;5;66;03m#category_id = 0,\u001b[39;00m\n\u001b[0;32m     15\u001b[0m                    )\n",
            "File \u001b[1;32md:\\Computer Vision\\tf_keras_gradcamplusplus\\utils.py:57\u001b[0m, in \u001b[0;36mpreprocess_image\u001b[1;34m(img_path, target_size)\u001b[0m\n\u001b[0;32m     48\u001b[0m \u001b[38;5;28;01mdef\u001b[39;00m \u001b[38;5;21mpreprocess_image\u001b[39m(img_path, target_size\u001b[38;5;241m=\u001b[39m(\u001b[38;5;241m224\u001b[39m, \u001b[38;5;241m224\u001b[39m)):\n\u001b[0;32m     49\u001b[0m \u001b[38;5;250m    \u001b[39m\u001b[38;5;124;03m\"\"\"Preprocess the image by reshape and normalization.\u001b[39;00m\n\u001b[0;32m     50\u001b[0m \n\u001b[0;32m     51\u001b[0m \u001b[38;5;124;03m    Args:\u001b[39;00m\n\u001b[1;32m   (...)\u001b[0m\n\u001b[0;32m     55\u001b[0m \u001b[38;5;124;03m        An image array.\u001b[39;00m\n\u001b[0;32m     56\u001b[0m \u001b[38;5;124;03m    \"\"\"\u001b[39;00m\n\u001b[1;32m---> 57\u001b[0m     img \u001b[38;5;241m=\u001b[39m image\u001b[38;5;241m.\u001b[39mload_img(img_path, target_size\u001b[38;5;241m=\u001b[39mtarget_size)\n\u001b[0;32m     58\u001b[0m     img \u001b[38;5;241m=\u001b[39m image\u001b[38;5;241m.\u001b[39mimg_to_array(img)\n\u001b[0;32m     59\u001b[0m     img \u001b[38;5;241m/\u001b[39m\u001b[38;5;241m=\u001b[39m \u001b[38;5;241m255\u001b[39m\n",
            "File \u001b[1;32mc:\\Users\\acer\\anaconda3\\Lib\\site-packages\\keras\\src\\utils\\image_utils.py:422\u001b[0m, in \u001b[0;36mload_img\u001b[1;34m(path, grayscale, color_mode, target_size, interpolation, keep_aspect_ratio)\u001b[0m\n\u001b[0;32m    420\u001b[0m     \u001b[38;5;28;01mif\u001b[39;00m \u001b[38;5;28misinstance\u001b[39m(path, pathlib\u001b[38;5;241m.\u001b[39mPath):\n\u001b[0;32m    421\u001b[0m         path \u001b[38;5;241m=\u001b[39m \u001b[38;5;28mstr\u001b[39m(path\u001b[38;5;241m.\u001b[39mresolve())\n\u001b[1;32m--> 422\u001b[0m     \u001b[38;5;28;01mwith\u001b[39;00m \u001b[38;5;28mopen\u001b[39m(path, \u001b[38;5;124m\"\u001b[39m\u001b[38;5;124mrb\u001b[39m\u001b[38;5;124m\"\u001b[39m) \u001b[38;5;28;01mas\u001b[39;00m f:\n\u001b[0;32m    423\u001b[0m         img \u001b[38;5;241m=\u001b[39m pil_image\u001b[38;5;241m.\u001b[39mopen(io\u001b[38;5;241m.\u001b[39mBytesIO(f\u001b[38;5;241m.\u001b[39mread()))\n\u001b[0;32m    424\u001b[0m \u001b[38;5;28;01melse\u001b[39;00m:\n",
            "\u001b[1;31mFileNotFoundError\u001b[0m: [Errno 2] No such file or directory: 'tf_keras_gradcamplusplus/images/4320878114_30a836d428_z.jpg'"
          ]
        }
      ],
      "source": [
        "from utils import vgg16_mura_model, preprocess_image, show_imgwithheat\n",
        "# from gradcam import grad_cam, grad_cam_plus\n",
        "\n",
        "# %% load the model\n",
        "model.summary()\n",
        "\n",
        "# %%\n",
        "# img_path = 'tf_keras_gradcamplusplus/images/4320878114_30a836d428_z.jpg'\n",
        "# img = preprocess_image(img_path)\n",
        "\n",
        "# %% result of grad cam\n",
        "heatmap = grad_cam(model, test,\n",
        "                   label_name = ['WRIST', 'ELBOW', 'SHOULDER'],\n",
        "                   #category_id = 0,\n",
        "                   )\n",
        "show_imgwithheat(img_path, heatmap)\n",
        "\n",
        "# %% result of grad cam++\n",
        "heatmap_plus = grad_cam_plus(model, img)\n",
        "show_imgwithheat(img_path, heatmap_plus)\n"
      ]
    },
    {
      "cell_type": "code",
      "execution_count": 22,
      "metadata": {
        "colab": {
          "base_uri": "https://localhost:8080/"
        },
        "id": "mapmg67hN2oF",
        "outputId": "7d564f28-3c86-4ce9-8eea-5be6595d64c5"
      },
      "outputs": [
        {
          "data": {
            "text/plain": [
              "(1, 28, 28)"
            ]
          },
          "execution_count": 22,
          "metadata": {},
          "output_type": "execute_result"
        }
      ],
      "source": [
        "test=test_images[:1]\n",
        "test.shape"
      ]
    },
    {
      "cell_type": "code",
      "execution_count": null,
      "metadata": {
        "colab": {
          "base_uri": "https://localhost:8080/"
        },
        "id": "MGa7_K4jLLRj",
        "outputId": "46a6251a-c472-4248-e752-d7b7e1b074fb"
      },
      "outputs": [
        {
          "name": "stdout",
          "output_type": "stream",
          "text": [
            "Model: \"sequential_3\"\n",
            "_________________________________________________________________\n",
            " Layer (type)                Output Shape              Param #   \n",
            "=================================================================\n",
            " conv2d_3 (Conv2D)           (None, 20, 20, 1)         82        \n",
            "                                                                 \n",
            " max_pooling2d_3 (MaxPoolin  (None, 10, 10, 1)         0         \n",
            " g2D)                                                            \n",
            "                                                                 \n",
            " flatten_3 (Flatten)         (None, 100)               0         \n",
            "                                                                 \n",
            " dense_3 (Dense)             (None, 10)                1010      \n",
            "                                                                 \n",
            "=================================================================\n",
            "Total params: 1092 (4.27 KB)\n",
            "Trainable params: 1092 (4.27 KB)\n",
            "Non-trainable params: 0 (0.00 Byte)\n",
            "_________________________________________________________________\n"
          ]
        }
      ],
      "source": [
        "# %% load the model\n",
        "model.summary()"
      ]
    },
    {
      "cell_type": "code",
      "execution_count": null,
      "metadata": {
        "colab": {
          "base_uri": "https://localhost:8080/"
        },
        "id": "1W2mG04HLej7",
        "outputId": "4f9684b1-73be-45f6-bc28-4eba36e24834"
      },
      "outputs": [
        {
          "name": "stdout",
          "output_type": "stream",
          "text": [
            "7\n"
          ]
        }
      ],
      "source": [
        "# %% result of grad cam\n",
        "heatmap = grad_cam(model, test.transpose([1,2,0]),\n",
        "                   label_name = range(10),\n",
        "                   #category_id = 0,\n",
        "                  )"
      ]
    },
    {
      "cell_type": "code",
      "execution_count": null,
      "metadata": {
        "colab": {
          "base_uri": "https://localhost:8080/"
        },
        "id": "5gUmITllPxm-",
        "outputId": "1e15f0ca-7f74-4c02-bfe3-97f8af17a90a"
      },
      "outputs": [
        {
          "data": {
            "text/plain": [
              "True"
            ]
          },
          "execution_count": 107,
          "metadata": {},
          "output_type": "execute_result"
        }
      ],
      "source": [
        "import cv2\n",
        "cv2.imwrite(\"test.png\",test.transpose([1,2,0]))"
      ]
    },
    {
      "cell_type": "code",
      "execution_count": null,
      "metadata": {
        "colab": {
          "base_uri": "https://localhost:8080/",
          "height": 91
        },
        "id": "PmTv_cqGPWRQ",
        "outputId": "4ef4a489-6df0-45cf-eca4-4fe5b7070359"
      },
      "outputs": [
        {
          "data": {
            "image/png": "[encoded data removed]",
            "text/plain": [
              "<PIL.Image.Image image mode=RGB size=28x28>"
            ]
          },
          "metadata": {},
          "output_type": "display_data"
        },
        {
          "name": "stdout",
          "output_type": "stream",
          "text": [
            "7\n"
          ]
        },
        {
          "data": {
            "image/png": "[encoded data removed]",
            "text/plain": [
              "<PIL.Image.Image image mode=RGB size=28x28>"
            ]
          },
          "metadata": {},
          "output_type": "display_data"
        }
      ],
      "source": [
        "show_imgwithheat(\"test.png\", heatmap)\n",
        "# %% result of grad cam++\n",
        "heatmap_plus = grad_cam_plus(model, test.transpose([1,2,0]))\n",
        "show_imgwithheat(\"test.png\", heatmap_plus)\n"
      ]
    },
    {
      "cell_type": "code",
      "execution_count": null,
      "metadata": {
        "id": "0upY_WUuQRV8"
      },
      "outputs": [],
      "source": []
    }
  ],
  "metadata": {
    "colab": {
      "provenance": []
    },
    "kernelspec": {
      "display_name": "Python 3",
      "name": "python3"
    },
    "language_info": {
      "codemirror_mode": {
        "name": "ipython",
        "version": 3
      },
      "file_extension": ".py",
      "mimetype": "text/x-python",
      "name": "python",
      "nbconvert_exporter": "python",
      "pygments_lexer": "ipython3",
      "version": "3.11.5"
    }
  },
  "nbformat": 4,
  "nbformat_minor": 0
}
