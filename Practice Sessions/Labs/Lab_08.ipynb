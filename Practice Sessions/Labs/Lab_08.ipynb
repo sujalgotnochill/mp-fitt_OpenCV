{
 "cells": [
  {
   "cell_type": "code",
   "execution_count": 1,
   "metadata": {},
   "outputs": [
    {
     "name": "stderr",
     "output_type": "stream",
     "text": [
      "2024-02-23 22:02:03.204656: I tensorflow/core/util/port.cc:113] oneDNN custom operations are on. You may see slightly different numerical results due to floating-point round-off errors from different computation orders. To turn them off, set the environment variable `TF_ENABLE_ONEDNN_OPTS=0`.\n",
      "2024-02-23 22:02:03.233844: E external/local_xla/xla/stream_executor/cuda/cuda_dnn.cc:9261] Unable to register cuDNN factory: Attempting to register factory for plugin cuDNN when one has already been registered\n",
      "2024-02-23 22:02:03.233873: E external/local_xla/xla/stream_executor/cuda/cuda_fft.cc:607] Unable to register cuFFT factory: Attempting to register factory for plugin cuFFT when one has already been registered\n",
      "2024-02-23 22:02:03.234650: E external/local_xla/xla/stream_executor/cuda/cuda_blas.cc:1515] Unable to register cuBLAS factory: Attempting to register factory for plugin cuBLAS when one has already been registered\n",
      "2024-02-23 22:02:03.239774: I tensorflow/core/platform/cpu_feature_guard.cc:182] This TensorFlow binary is optimized to use available CPU instructions in performance-critical operations.\n",
      "To enable the following instructions: AVX2 AVX_VNNI FMA, in other operations, rebuild TensorFlow with the appropriate compiler flags.\n",
      "2024-02-23 22:02:03.895751: W tensorflow/compiler/tf2tensorrt/utils/py_utils.cc:38] TF-TRT Warning: Could not find TensorRT\n"
     ]
    }
   ],
   "source": [
    "import numpy as np\n",
    "import tensorflow as tf\n",
    "from tensorflow.keras.models import load_model\n",
    "from tensorflow.keras.preprocessing import image\n",
    "from tensorflow.keras import Model"
   ]
  },
  {
   "cell_type": "code",
   "execution_count": 2,
   "metadata": {},
   "outputs": [],
   "source": [
    "def grad_cam(model, img, layer_name=\"conv2d_3\", label_name=None, category_id=None):\n",
    "    \"\"\"Get a heatmap by Grad-CAM.\n",
    "    Args:\n",
    "        model: A model object, build from tf.keras 2.X.\n",
    "        img: An image ndarray.\n",
    "        layer_name: A string, layer name in model.\n",
    "        label_name: A list or None,\n",
    "            show the label name by assign this argument,\n",
    "            it should be a list of all label names.\n",
    "        category_id: An integer, index of the class.\n",
    "            Default is the category with the highest score in the prediction.\n",
    "    Return:\n",
    "        A heatmap ndarray(without color).\n",
    "    \"\"\"\n",
    "    img_tensor = np.expand_dims(img, axis=0)\n",
    "    conv_layer = model.get_layer(layer_name)\n",
    "    heatmap_model = Model([model.inputs], [conv_layer.output, model.output])\n",
    "    with tf.GradientTape() as gtape:\n",
    "        conv_output, predictions = heatmap_model(img_tensor)\n",
    "        if category_id is None:\n",
    "            category_id = np.argmax(predictions[0])\n",
    "        if label_name is not None:\n",
    "            print(label_name[category_id])\n",
    "        output = predictions[:, category_id]\n",
    "        grads = gtape.gradient(output, conv_output)\n",
    "        pooled_grads = tf.reduce_mean(grads, axis=(0, 1, 2))\n",
    "    heatmap = tf.reduce_mean(tf.multiply(pooled_grads, conv_output), axis=-1)\n",
    "    heatmap = np.maximum(heatmap, 0)\n",
    "    max_heat = np.max(heatmap)\n",
    "    if max_heat == 0:\n",
    "        max_heat = 1e-10\n",
    "    heatmap /= max_heat\n",
    "    return np.squeeze(heatmap)"
   ]
  },
  {
   "cell_type": "code",
   "execution_count": 3,
   "metadata": {},
   "outputs": [],
   "source": [
    "def grad_cam_plus(model, img, layer_name=\"conv2d_3\", label_name=None, category_id=None):\n",
    "    \"\"\"Get a heatmap by Grad-CAM++.\n",
    "        10/02/2024, 23:27 visualisation_cnn_mnist.ipynb - Colaboratory\n",
    "        https://colab.research.google.com/drive/1kzBPbwmHM2EF_GZUiTMkrDd3MJnVFLJF#printMode=true 8/11\n",
    "    Args:\n",
    "        model: A model object, build from tf.keras 2.X.\n",
    "        img: An image ndarray.\n",
    "        layer_name: A string, layer name in model.\n",
    "        label_name: A list or None,\n",
    "            show the label name by assign this argument,\n",
    "            it should be a list of all label names.\n",
    "        category_id: An integer, index of the class.\n",
    "            Default is the category with the highest score in the prediction.\n",
    "    Return:\n",
    "        A heatmap ndarray(without color).\n",
    "    \"\"\"\n",
    "    img_tensor = np.expand_dims(img, axis=0)\n",
    "    conv_layer = model.get_layer(layer_name)\n",
    "    heatmap_model = Model([model.inputs], [conv_layer.output, model.output])\n",
    "    with tf.GradientTape() as gtape1:\n",
    "        with tf.GradientTape() as gtape2:\n",
    "            with tf.GradientTape() as gtape3:\n",
    "                conv_output, predictions = heatmap_model(img_tensor)\n",
    "                if category_id is None:\n",
    "                    category_id = np.argmax(predictions[0])\n",
    "                    print(category_id)\n",
    "                if label_name is not None:\n",
    "                    print(label_name[category_id])\n",
    "                output = predictions[:, category_id]\n",
    "                conv_first_grad = gtape3.gradient(output, conv_output)\n",
    "            conv_second_grad = gtape2.gradient(conv_first_grad, conv_output)\n",
    "        conv_third_grad = gtape1.gradient(conv_second_grad, conv_output)\n",
    "    global_sum = np.sum(conv_output, axis=(0, 1, 2))\n",
    "    alpha_num = conv_second_grad[0]\n",
    "    alpha_denom = conv_second_grad[0]*2.0 + conv_third_grad[0]*global_sum\n",
    "    alpha_denom = np.where(alpha_denom != 0.0, alpha_denom, 1e-10)\n",
    "    alphas = alpha_num/alpha_denom\n",
    "    alpha_normalization_constant = np.sum(alphas, axis=(0,1))\n",
    "    alphas /= alpha_normalization_constant\n",
    "    weights = np.maximum(conv_first_grad[0], 0.0)\n",
    "    deep_linearization_weights = np.sum(weights*alphas, axis=(0,1))\n",
    "    grad_cam_map = np.sum(deep_linearization_weights*conv_output[0], axis=2)\n",
    "    heatmap = np.maximum(grad_cam_map, 0)\n",
    "    max_heat = np.max(heatmap)\n",
    "    if max_heat == 0:\n",
    "        max_heat = 1e-10\n",
    "    heatmap /= max_heat\n",
    "    return heatmap"
   ]
  },
  {
   "cell_type": "code",
   "execution_count": 5,
   "metadata": {},
   "outputs": [],
   "source": [
    "import requests\n",
    "import os\n",
    "import cv2\n",
    "import numpy as np\n",
    "from PIL import Image\n",
    "from tensorflow.keras.models import load_model\n",
    "from tensorflow.keras.preprocessing import image\n",
    "from tensorflow.keras.utils import get_file"
   ]
  },
  {
   "cell_type": "code",
   "execution_count": 6,
   "metadata": {},
   "outputs": [],
   "source": [
    "WEIGHTS_PATH_VGG16_MURA = \"https://github.com/samson6460/tf_keras_gradcamplusplus/releases/download/Weights/tf_keras_vgg16_mura_model.h5\"\n",
    "\n",
    "def vgg16_mura_model():\n",
    "    \"\"\"Get a vgg16 model.\n",
    "\n",
    "    The model can classify bone X-rays into three categories:\n",
    "    wrist, shoulder and elbow.\n",
    "    It will download the weights automatically for the first time.\n",
    "\n",
    "    Return:\n",
    "        A tf.keras model object.\n",
    "    \"\"\"\n",
    "    path_weights = get_file(\n",
    "        \"tf_keras_vgg16_mura_model.h5\",\n",
    "        WEIGHTS_PATH_VGG16_MURA,\n",
    "        cache_subdir=\"models\")\n",
    "\n",
    "    model = load_model(path_weights)\n",
    "\n",
    "    return model\n",
    "\n",
    "\n",
    "def preprocess_image(img_path, target_size=(224, 224)):\n",
    "    \"\"\"Preprocess the image by reshape and normalization.\n",
    "\n",
    "    Args:\n",
    "        img_path: A string.\n",
    "        target_size: A tuple, reshape to this size.\n",
    "    Return:\n",
    "        An image array.\n",
    "    \"\"\"\n",
    "    img = image.load_img(img_path, target_size=target_size)\n",
    "    img = image.img_to_array(img)\n",
    "    img /= 255\n",
    "\n",
    "    return img\n",
    "\n",
    "\n",
    "def show_imgwithheat(img_path, heatmap, alpha=0.4, return_array=False):\n",
    "    \"\"\"Show the image with heatmap.\n",
    "\n",
    "    Args:\n",
    "        img_path: string.\n",
    "        heatmap: image array, get it by calling grad_cam().\n",
    "        alpha: float, transparency of heatmap.\n",
    "        return_array: bool, return a superimposed image array or not.\n",
    "    Return:\n",
    "        None or image array.\n",
    "    \"\"\"\n",
    "    img = cv2.imread(img_path)\n",
    "    heatmap = cv2.resize(heatmap, (img.shape[1], img.shape[0]))\n",
    "    heatmap = (heatmap*255).astype(\"uint8\")\n",
    "    heatmap = cv2.applyColorMap(heatmap, cv2.COLORMAP_JET)\n",
    "    superimposed_img = heatmap * alpha + img\n",
    "    superimposed_img = np.clip(superimposed_img, 0, 255).astype(\"uint8\")\n",
    "    superimposed_img = cv2.cvtColor(superimposed_img, cv2.COLOR_BGR2RGB)\n",
    "\n",
    "    imgwithheat = Image.fromarray(superimposed_img)\n",
    "    try:\n",
    "        display(imgwithheat)\n",
    "    except NameError:\n",
    "        imgwithheat.show()\n",
    "\n",
    "    if return_array:\n",
    "        return superimposed_img"
   ]
  },
  {
   "cell_type": "markdown",
   "metadata": {},
   "source": [
    "## The VGG model already available and trained for medical dataset.\n"
   ]
  },
  {
   "cell_type": "code",
   "execution_count": 9,
   "metadata": {},
   "outputs": [
    {
     "ename": "NameError",
     "evalue": "name 'model' is not defined",
     "output_type": "error",
     "traceback": [
      "\u001b[0;31m---------------------------------------------------------------------------\u001b[0m",
      "\u001b[0;31mNameError\u001b[0m                                 Traceback (most recent call last)",
      "Cell \u001b[0;32mIn[9], line 1\u001b[0m\n\u001b[0;32m----> 1\u001b[0m \u001b[43mmodel\u001b[49m\u001b[38;5;241m.\u001b[39msummary()\n",
      "\u001b[0;31mNameError\u001b[0m: name 'model' is not defined"
     ]
    }
   ],
   "source": [
    "model.summary()"
   ]
  },
  {
   "cell_type": "code",
   "execution_count": null,
   "metadata": {},
   "outputs": [],
   "source": []
  }
 ],
 "metadata": {
  "kernelspec": {
   "display_name": "Python 3",
   "language": "python",
   "name": "python3"
  },
  "language_info": {
   "codemirror_mode": {
    "name": "ipython",
    "version": 3
   },
   "file_extension": ".py",
   "mimetype": "text/x-python",
   "name": "python",
   "nbconvert_exporter": "python",
   "pygments_lexer": "ipython3",
   "version": "3.10.12"
  }
 },
 "nbformat": 4,
 "nbformat_minor": 2
}
