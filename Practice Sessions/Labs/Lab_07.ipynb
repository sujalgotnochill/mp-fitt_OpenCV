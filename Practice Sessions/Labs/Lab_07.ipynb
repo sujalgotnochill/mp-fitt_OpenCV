{
 "cells": [
  {
   "cell_type": "code",
   "execution_count": 1,
   "metadata": {},
   "outputs": [
    {
     "name": "stderr",
     "output_type": "stream",
     "text": [
      "2024-02-23 22:11:17.596620: I tensorflow/core/util/port.cc:113] oneDNN custom operations are on. You may see slightly different numerical results due to floating-point round-off errors from different computation orders. To turn them off, set the environment variable `TF_ENABLE_ONEDNN_OPTS=0`.\n",
      "2024-02-23 22:11:17.624203: E external/local_xla/xla/stream_executor/cuda/cuda_dnn.cc:9261] Unable to register cuDNN factory: Attempting to register factory for plugin cuDNN when one has already been registered\n",
      "2024-02-23 22:11:17.624238: E external/local_xla/xla/stream_executor/cuda/cuda_fft.cc:607] Unable to register cuFFT factory: Attempting to register factory for plugin cuFFT when one has already been registered\n",
      "2024-02-23 22:11:17.624956: E external/local_xla/xla/stream_executor/cuda/cuda_blas.cc:1515] Unable to register cuBLAS factory: Attempting to register factory for plugin cuBLAS when one has already been registered\n",
      "2024-02-23 22:11:17.630387: I tensorflow/core/platform/cpu_feature_guard.cc:182] This TensorFlow binary is optimized to use available CPU instructions in performance-critical operations.\n",
      "To enable the following instructions: AVX2 AVX_VNNI FMA, in other operations, rebuild TensorFlow with the appropriate compiler flags.\n",
      "2024-02-23 22:11:18.293511: W tensorflow/compiler/tf2tensorrt/utils/py_utils.cc:38] TF-TRT Warning: Could not find TensorRT\n"
     ]
    }
   ],
   "source": [
    "from tensorflow import keras"
   ]
  },
  {
   "cell_type": "code",
   "execution_count": 2,
   "metadata": {},
   "outputs": [],
   "source": [
    "import numpy as np\n",
    "import tensorflow as tf\n",
    "from keras.datasets import mnist\n",
    "from tensorflow.keras.models import Sequential\n",
    "#from ann_visualizer.visualize import ann_viz\n",
    "from tensorflow.keras.layers import Conv2D, MaxPooling2D, Dense, Flatten\n",
    "from tensorflow.keras.utils import to_categorical\n",
    "import matplotlib.pyplot as plt"
   ]
  },
  {
   "cell_type": "code",
   "execution_count": 3,
   "metadata": {},
   "outputs": [],
   "source": [
    "from keras.callbacks import CSVLogger"
   ]
  },
  {
   "cell_type": "code",
   "execution_count": 4,
   "metadata": {},
   "outputs": [],
   "source": [
    "csv_logger = CSVLogger(\"model_history_log.csv\", append=True)"
   ]
  },
  {
   "cell_type": "code",
   "execution_count": 5,
   "metadata": {},
   "outputs": [],
   "source": [
    "(train_images, train_labels), (test_images, test_labels) = mnist.load_data()"
   ]
  },
  {
   "cell_type": "code",
   "execution_count": 6,
   "metadata": {},
   "outputs": [
    {
     "name": "stdout",
     "output_type": "stream",
     "text": [
      "60000\n",
      "10000\n"
     ]
    }
   ],
   "source": [
    "#loding the images\n",
    "#train_images = mnist.train_images()\n",
    "#train_labels = mnist.train_labels()\n",
    "print(len(train_labels))\n",
    "#test_images = mnist.test_images()\n",
    "#test_labels = mnist.test_labels()\n",
    "print(len(test_labels))"
   ]
  },
  {
   "cell_type": "code",
   "execution_count": 7,
   "metadata": {},
   "outputs": [],
   "source": [
    "# Normalize the images. Pixel values are between 0-255 in image learning it is\n",
    "# good practice to normalize your data to a smaller range like between 0 and 1.\n",
    "train_images = (train_images / 255) - 0.5\n",
    "#print(train_images)\n",
    "test_images = (test_images / 255) - 0.5\n",
    "#print(test_images)\n"
   ]
  },
  {
   "cell_type": "code",
   "execution_count": 8,
   "metadata": {},
   "outputs": [],
   "source": [
    "#lets give the hyper parameters\n",
    "num_filters = 1\n",
    "filter_size = 9\n",
    "pool_size = 2"
   ]
  },
  {
   "cell_type": "code",
   "execution_count": 9,
   "metadata": {},
   "outputs": [
    {
     "name": "stderr",
     "output_type": "stream",
     "text": [
      "2024-02-23 22:11:20.301511: I external/local_xla/xla/stream_executor/cuda/cuda_executor.cc:887] could not open file to read NUMA node: /sys/bus/pci/devices/0000:01:00.0/numa_node\n",
      "Your kernel may have been built without NUMA support.\n",
      "2024-02-23 22:11:20.324325: I external/local_xla/xla/stream_executor/cuda/cuda_executor.cc:887] could not open file to read NUMA node: /sys/bus/pci/devices/0000:01:00.0/numa_node\n",
      "Your kernel may have been built without NUMA support.\n",
      "2024-02-23 22:11:20.324370: I external/local_xla/xla/stream_executor/cuda/cuda_executor.cc:887] could not open file to read NUMA node: /sys/bus/pci/devices/0000:01:00.0/numa_node\n",
      "Your kernel may have been built without NUMA support.\n",
      "2024-02-23 22:11:20.326788: I external/local_xla/xla/stream_executor/cuda/cuda_executor.cc:887] could not open file to read NUMA node: /sys/bus/pci/devices/0000:01:00.0/numa_node\n",
      "Your kernel may have been built without NUMA support.\n",
      "2024-02-23 22:11:20.326840: I external/local_xla/xla/stream_executor/cuda/cuda_executor.cc:887] could not open file to read NUMA node: /sys/bus/pci/devices/0000:01:00.0/numa_node\n",
      "Your kernel may have been built without NUMA support.\n",
      "2024-02-23 22:11:20.326857: I external/local_xla/xla/stream_executor/cuda/cuda_executor.cc:887] could not open file to read NUMA node: /sys/bus/pci/devices/0000:01:00.0/numa_node\n",
      "Your kernel may have been built without NUMA support.\n",
      "2024-02-23 22:11:20.492651: I external/local_xla/xla/stream_executor/cuda/cuda_executor.cc:887] could not open file to read NUMA node: /sys/bus/pci/devices/0000:01:00.0/numa_node\n",
      "Your kernel may have been built without NUMA support.\n",
      "2024-02-23 22:11:20.492723: I external/local_xla/xla/stream_executor/cuda/cuda_executor.cc:887] could not open file to read NUMA node: /sys/bus/pci/devices/0000:01:00.0/numa_node\n",
      "Your kernel may have been built without NUMA support.\n",
      "2024-02-23 22:11:20.492732: I tensorflow/core/common_runtime/gpu/gpu_device.cc:2022] Could not identify NUMA node of platform GPU id 0, defaulting to 0.  Your kernel may not have been built with NUMA support.\n",
      "2024-02-23 22:11:20.492761: I external/local_xla/xla/stream_executor/cuda/cuda_executor.cc:887] could not open file to read NUMA node: /sys/bus/pci/devices/0000:01:00.0/numa_node\n",
      "Your kernel may have been built without NUMA support.\n",
      "2024-02-23 22:11:20.492780: I tensorflow/core/common_runtime/gpu/gpu_device.cc:1929] Created device /job:localhost/replica:0/task:0/device:GPU:0 with 1768 MB memory:  -> device: 0, name: NVIDIA GeForce RTX 3050 Laptop GPU, pci bus id: 0000:01:00.0, compute capability: 8.6\n"
     ]
    }
   ],
   "source": [
    "# Model is being trained on 1875 batches of 32 images each, not 1875 images. 1875*\n",
    "# Build the model.\n",
    "model = Sequential([\n",
    "    Conv2D(num_filters, filter_size, input_shape=(28, 28, 1)),\n",
    "    MaxPooling2D(pool_size=pool_size),\n",
    "    Flatten(),\n",
    "    Dense(10, activation='softmax'),\n",
    "])"
   ]
  },
  {
   "cell_type": "code",
   "execution_count": 10,
   "metadata": {},
   "outputs": [],
   "source": [
    "# Compile the model.\n",
    "model.compile(\n",
    "    'adam',\n",
    "    loss='categorical_crossentropy',\n",
    "    metrics=['accuracy'],\n",
    ")"
   ]
  },
  {
   "cell_type": "code",
   "execution_count": 11,
   "metadata": {},
   "outputs": [
    {
     "data": {
      "text/plain": [
       "<keras.src.callbacks.EarlyStopping at 0x7fdcf35f8950>"
      ]
     },
     "execution_count": 11,
     "metadata": {},
     "output_type": "execute_result"
    }
   ],
   "source": [
    "tf.keras.callbacks.EarlyStopping(\n",
    "    monitor=\"loss\",\n",
    "    min_delta=0,\n",
    "    patience=0,\n",
    "    verbose=0,\n",
    "    mode=\"auto\",\n",
    "    baseline=None,\n",
    "    restore_best_weights=False,\n",
    "    )\n"
   ]
  },
  {
   "cell_type": "code",
   "execution_count": 12,
   "metadata": {},
   "outputs": [],
   "source": [
    "callback_1 = tf.keras.callbacks.EarlyStopping(monitor='loss', patience=2)"
   ]
  },
  {
   "cell_type": "code",
   "execution_count": 13,
   "metadata": {},
   "outputs": [
    {
     "name": "stdout",
     "output_type": "stream",
     "text": [
      "[PhysicalDevice(name='/physical_device:GPU:0', device_type='GPU')]\n"
     ]
    }
   ],
   "source": [
    "print(tf.config.list_physical_devices('GPU'))"
   ]
  },
  {
   "cell_type": "code",
   "execution_count": 14,
   "metadata": {},
   "outputs": [
    {
     "name": "stdout",
     "output_type": "stream",
     "text": [
      "Epoch 1/10\n"
     ]
    },
    {
     "name": "stderr",
     "output_type": "stream",
     "text": [
      "2024-02-23 22:11:21.769730: I external/local_xla/xla/stream_executor/cuda/cuda_dnn.cc:454] Loaded cuDNN version 8904\n",
      "2024-02-23 22:11:21.920263: I external/local_tsl/tsl/platform/default/subprocess.cc:304] Start cannot spawn child process: No such file or directory\n",
      "2024-02-23 22:11:22.729880: I external/local_xla/xla/service/service.cc:168] XLA service 0x7fdb306ffbe0 initialized for platform CUDA (this does not guarantee that XLA will be used). Devices:\n",
      "2024-02-23 22:11:22.729927: I external/local_xla/xla/service/service.cc:176]   StreamExecutor device (0): NVIDIA GeForce RTX 3050 Laptop GPU, Compute Capability 8.6\n",
      "2024-02-23 22:11:22.736470: I tensorflow/compiler/mlir/tensorflow/utils/dump_mlir_util.cc:269] disabling MLIR crash reproducer, set env var `MLIR_CRASH_REPRODUCER_DIRECTORY` to enable.\n",
      "2024-02-23 22:11:22.837283: I external/local_tsl/tsl/platform/default/subprocess.cc:304] Start cannot spawn child process: No such file or directory\n",
      "WARNING: All log messages before absl::InitializeLog() is called are written to STDERR\n",
      "I0000 00:00:1708706482.881542    5535 device_compiler.h:186] Compiled cluster using XLA!  This line is logged at most once for the lifetime of the process.\n"
     ]
    },
    {
     "name": "stdout",
     "output_type": "stream",
     "text": [
      "1875/1875 [==============================] - 11s 5ms/step - loss: 0.5625 - accuracy: 0.8358 - val_loss: 0.3546 - val_accuracy: 0.9005\n",
      "Epoch 2/10\n",
      "1875/1875 [==============================] - 8s 4ms/step - loss: 0.3507 - accuracy: 0.8992 - val_loss: 0.3197 - val_accuracy: 0.9093\n",
      "Epoch 3/10\n",
      "1875/1875 [==============================] - 9s 5ms/step - loss: 0.3202 - accuracy: 0.9074 - val_loss: 0.2970 - val_accuracy: 0.9192\n",
      "Epoch 4/10\n",
      "1875/1875 [==============================] - 9s 5ms/step - loss: 0.3015 - accuracy: 0.9136 - val_loss: 0.2898 - val_accuracy: 0.9183\n",
      "Epoch 5/10\n",
      "1875/1875 [==============================] - 9s 5ms/step - loss: 0.2888 - accuracy: 0.9173 - val_loss: 0.2792 - val_accuracy: 0.9224\n",
      "Epoch 6/10\n",
      "1875/1875 [==============================] - 9s 5ms/step - loss: 0.2793 - accuracy: 0.9194 - val_loss: 0.2723 - val_accuracy: 0.9208\n",
      "Epoch 7/10\n",
      "1875/1875 [==============================] - 9s 5ms/step - loss: 0.2718 - accuracy: 0.9209 - val_loss: 0.2673 - val_accuracy: 0.9253\n",
      "Epoch 8/10\n",
      "1875/1875 [==============================] - 10s 5ms/step - loss: 0.2657 - accuracy: 0.9233 - val_loss: 0.2613 - val_accuracy: 0.9258\n",
      "Epoch 9/10\n",
      "1875/1875 [==============================] - 10s 5ms/step - loss: 0.2601 - accuracy: 0.9244 - val_loss: 0.2531 - val_accuracy: 0.9284\n",
      "Epoch 10/10\n",
      "1875/1875 [==============================] - 10s 5ms/step - loss: 0.2562 - accuracy: 0.9258 - val_loss: 0.2495 - val_accuracy: 0.9299\n"
     ]
    }
   ],
   "source": [
    "# Train the model.\n",
    "history = model.fit(\n",
    "    train_images,\n",
    "    to_categorical(train_labels),\n",
    "    epochs=10,\n",
    "    validation_data=(test_images, to_categorical(test_labels)),\n",
    "    callbacks=[csv_logger, callback_1],\n",
    ")\n"
   ]
  },
  {
   "cell_type": "code",
   "execution_count": 15,
   "metadata": {},
   "outputs": [
    {
     "name": "stdout",
     "output_type": "stream",
     "text": [
      "Model: \"sequential\"\n",
      "_________________________________________________________________\n",
      " Layer (type)                Output Shape              Param #   \n",
      "=================================================================\n",
      " conv2d (Conv2D)             (None, 20, 20, 1)         82        \n",
      "                                                                 \n",
      " max_pooling2d (MaxPooling2  (None, 10, 10, 1)         0         \n",
      " D)                                                              \n",
      "                                                                 \n",
      " flatten (Flatten)           (None, 100)               0         \n",
      "                                                                 \n",
      " dense (Dense)               (None, 10)                1010      \n",
      "                                                                 \n",
      "=================================================================\n",
      "Total params: 1092 (4.27 KB)\n",
      "Trainable params: 1092 (4.27 KB)\n",
      "Non-trainable params: 0 (0.00 Byte)\n",
      "_________________________________________________________________\n"
     ]
    }
   ],
   "source": [
    "model.summary()"
   ]
  },
  {
   "cell_type": "code",
   "execution_count": 16,
   "metadata": {},
   "outputs": [],
   "source": [
    "#Save the model:\n",
    "model.save_weights('cnn.h5')"
   ]
  },
  {
   "cell_type": "code",
   "execution_count": 17,
   "metadata": {},
   "outputs": [],
   "source": [
    "model.load_weights('cnn.h5')"
   ]
  },
  {
   "cell_type": "code",
   "execution_count": 18,
   "metadata": {},
   "outputs": [
    {
     "name": "stdout",
     "output_type": "stream",
     "text": [
      "1/1 [==============================] - 0s 198ms/step\n"
     ]
    }
   ],
   "source": [
    "predictions = model.predict(test_images[:10])"
   ]
  },
  {
   "cell_type": "code",
   "execution_count": 19,
   "metadata": {},
   "outputs": [
    {
     "name": "stdout",
     "output_type": "stream",
     "text": [
      "[7 2 1 0 4 1 4 9 6 9]\n"
     ]
    }
   ],
   "source": [
    "print(np.argmax(predictions, axis=1)) # [7, 2, 1, 0, 4]"
   ]
  },
  {
   "cell_type": "code",
   "execution_count": 20,
   "metadata": {},
   "outputs": [
    {
     "name": "stdout",
     "output_type": "stream",
     "text": [
      "[7 2 1 0 4 1 4 9 5 9]\n"
     ]
    }
   ],
   "source": [
    "print(test_labels[:10]) # [7, 2, 1, 0, 4]"
   ]
  },
  {
   "cell_type": "code",
   "execution_count": 21,
   "metadata": {},
   "outputs": [],
   "source": [
    "#Callback records events into a History object.\n",
    "accuracy = history.history['accuracy']\n",
    "val_accuracy = history.history['val_accuracy']\n",
    "loss = history.history['loss']\n",
    "val_loss = history.history['val_loss']"
   ]
  },
  {
   "cell_type": "code",
   "execution_count": 22,
   "metadata": {},
   "outputs": [],
   "source": [
    "#The range of epochs, from 1 to the total number of epochs, is often used to plot \n",
    "#the range function is used to generate a list of integers from 1 to the length of\n",
    "# This is because the accuracy list is typically recorded at the end of each epoch\n",
    "epochs = range(1, len(accuracy) + 1)"
   ]
  },
  {
   "cell_type": "code",
   "execution_count": 23,
   "metadata": {},
   "outputs": [
    {
     "data": {
      "image/png": "[encoded data removed]",
      "text/plain": [
       "<Figure size 640x480 with 1 Axes>"
      ]
     },
     "metadata": {},
     "output_type": "display_data"
    },
    {
     "data": {
      "image/png": "[encoded data removed]",
      "text/plain": [
       "<Figure size 640x480 with 1 Axes>"
      ]
     },
     "metadata": {},
     "output_type": "display_data"
    }
   ],
   "source": [
    "plt.plot(epochs, accuracy, 'bo', label='Training acc')\n",
    "plt.plot(epochs, val_accuracy, 'b', label='Validation acc')\n",
    "plt.title('Training and validation accuracy')\n",
    "plt.legend()\n",
    "plt.figure()\n",
    "plt.plot(epochs, loss, 'bo', label='Training loss')\n",
    "plt.plot(epochs, val_loss, 'b', label='Validation loss')\n",
    "plt.title('Training and validation loss')\n",
    "plt.legend()\n",
    "plt.show()"
   ]
  },
  {
   "cell_type": "code",
   "execution_count": 24,
   "metadata": {},
   "outputs": [
    {
     "name": "stdout",
     "output_type": "stream",
     "text": [
      "You must install pydot (`pip install pydot`) and install graphviz (see instructions at https://graphviz.gitlab.io/download/) for plot_model to work.\n"
     ]
    }
   ],
   "source": [
    "from tensorflow.keras.utils import plot_model\n",
    "plot_model(model, to_file='model_plot.png', show_shapes=True, show_layer_names=True)"
   ]
  },
  {
   "cell_type": "code",
   "execution_count": 25,
   "metadata": {},
   "outputs": [],
   "source": [
    "import numpy as np\n",
    "import tensorflow as tf\n",
    "from tensorflow.keras.models import load_model\n",
    "from tensorflow.keras.preprocessing import image\n",
    "from tensorflow.keras import Model"
   ]
  },
  {
   "cell_type": "code",
   "execution_count": 26,
   "metadata": {},
   "outputs": [],
   "source": [
    "def grad_cam(model, img, layer_name=\"conv2d_3\", label_name=None, category_id=None):\n",
    "    \"\"\"Get a heatmap by Grad-CAM.\n",
    "    Args:\n",
    "        model: A model object, build from tf.keras 2.X.\n",
    "        img: An image ndarray.\n",
    "        layer_name: A string, layer name in model.\n",
    "        label_name: A list or None,\n",
    "            show the label name by assign this argument,\n",
    "            it should be a list of all label names.\n",
    "        category_id: An integer, index of the class.\n",
    "            Default is the category with the highest score in the prediction.\n",
    "    Return:\n",
    "        A heatmap ndarray(without color).\n",
    "    \"\"\"\n",
    "    img_tensor = np.expand_dims(img, axis=0)\n",
    "    conv_layer = model.get_layer(layer_name)\n",
    "    heatmap_model = Model([model.inputs], [conv_layer.output, model.output])\n",
    "    with tf.GradientTape() as gtape:\n",
    "        conv_output, predictions = heatmap_model(img_tensor)\n",
    "        if category_id is None:\n",
    "            category_id = np.argmax(predictions[0])\n",
    "        if label_name is not None:\n",
    "            print(label_name[category_id])\n",
    "        output = predictions[:, category_id]\n",
    "        grads = gtape.gradient(output, conv_output)\n",
    "        pooled_grads = tf.reduce_mean(grads, axis=(0, 1, 2))\n",
    "    heatmap = tf.reduce_mean(tf.multiply(pooled_grads, conv_output), axis=-1)\n",
    "    heatmap = np.maximum(heatmap, 0)\n",
    "    max_heat = np.max(heatmap)\n",
    "    if max_heat == 0:\n",
    "        max_heat = 1e-10\n",
    "    heatmap /= max_heat\n",
    "    return np.squeeze(heatmap)"
   ]
  },
  {
   "cell_type": "code",
   "execution_count": 27,
   "metadata": {},
   "outputs": [],
   "source": [
    "def grad_cam_plus(model, img, layer_name=\"conv2d_3\", label_name=None, category_id=None):\n",
    "    \"\"\"Get a heatmap by Grad-CAM++.\n",
    "        10/02/2024, 23:27 visualisation_cnn_mnist.ipynb - Colaboratory\n",
    "        https://colab.research.google.com/drive/1kzBPbwmHM2EF_GZUiTMkrDd3MJnVFLJF#printMode=true 8/11\n",
    "    Args:\n",
    "        model: A model object, build from tf.keras 2.X.\n",
    "        img: An image ndarray.\n",
    "        layer_name: A string, layer name in model.\n",
    "        label_name: A list or None,\n",
    "            show the label name by assign this argument,\n",
    "            it should be a list of all label names.\n",
    "        category_id: An integer, index of the class.\n",
    "            Default is the category with the highest score in the prediction.\n",
    "    Return:\n",
    "        A heatmap ndarray(without color).\n",
    "    \"\"\"\n",
    "    img_tensor = np.expand_dims(img, axis=0)\n",
    "    conv_layer = model.get_layer(layer_name)\n",
    "    heatmap_model = Model([model.inputs], [conv_layer.output, model.output])\n",
    "    with tf.GradientTape() as gtape1:\n",
    "        with tf.GradientTape() as gtape2:\n",
    "            with tf.GradientTape() as gtape3:\n",
    "                conv_output, predictions = heatmap_model(img_tensor)\n",
    "                if category_id is None:\n",
    "                    category_id = np.argmax(predictions[0])\n",
    "                    print(category_id)\n",
    "                if label_name is not None:\n",
    "                    print(label_name[category_id])\n",
    "                output = predictions[:, category_id]\n",
    "                conv_first_grad = gtape3.gradient(output, conv_output)\n",
    "            conv_second_grad = gtape2.gradient(conv_first_grad, conv_output)\n",
    "        conv_third_grad = gtape1.gradient(conv_second_grad, conv_output)\n",
    "    global_sum = np.sum(conv_output, axis=(0, 1, 2))\n",
    "    alpha_num = conv_second_grad[0]\n",
    "    alpha_denom = conv_second_grad[0]*2.0 + conv_third_grad[0]*global_sum\n",
    "    alpha_denom = np.where(alpha_denom != 0.0, alpha_denom, 1e-10)\n",
    "    alphas = alpha_num/alpha_denom\n",
    "    alpha_normalization_constant = np.sum(alphas, axis=(0,1))\n",
    "    alphas /= alpha_normalization_constant\n",
    "    weights = np.maximum(conv_first_grad[0], 0.0)\n",
    "    deep_linearization_weights = np.sum(weights*alphas, axis=(0,1))\n",
    "    grad_cam_map = np.sum(deep_linearization_weights*conv_output[0], axis=2)\n",
    "    heatmap = np.maximum(grad_cam_map, 0)\n",
    "    max_heat = np.max(heatmap)\n",
    "    if max_heat == 0:\n",
    "        max_heat = 1e-10\n",
    "    heatmap /= max_heat\n",
    "    return heatmap"
   ]
  },
  {
   "cell_type": "code",
   "execution_count": 28,
   "metadata": {},
   "outputs": [],
   "source": [
    "import requests\n",
    "import os\n",
    "import cv2\n",
    "import numpy as np\n",
    "from PIL import Image\n",
    "from tensorflow.keras.models import load_model\n",
    "from tensorflow.keras.preprocessing import image\n",
    "from tensorflow.keras.utils import get_file"
   ]
  },
  {
   "cell_type": "markdown",
   "metadata": {},
   "source": [
    "## The VGG model already available and trained for medical dataset.\n"
   ]
  },
  {
   "cell_type": "code",
   "execution_count": 29,
   "metadata": {},
   "outputs": [],
   "source": [
    "WEIGHTS_PATH_VGG16_MURA = \"https://github.com/samson6460/tf_keras_gradcamplusplus/releases/download/Weights/tf_keras_vgg16_mura_model.h5\"\n",
    "\n",
    "def vgg16_mura_model():\n",
    "    \"\"\"Get a vgg16 model.\n",
    "\n",
    "    The model can classify bone X-rays into three categories:\n",
    "    wrist, shoulder and elbow.\n",
    "    It will download the weights automatically for the first time.\n",
    "\n",
    "    Return:\n",
    "        A tf.keras model object.\n",
    "    \"\"\"\n",
    "    path_weights = get_file(\n",
    "        \"tf_keras_vgg16_mura_model.h5\",\n",
    "        WEIGHTS_PATH_VGG16_MURA,\n",
    "        cache_subdir=\"models\")\n",
    "\n",
    "    model = load_model(path_weights)\n",
    "\n",
    "    return model\n",
    "\n",
    "\n",
    "def preprocess_image(img_path, target_size=(224, 224)):\n",
    "    \"\"\"Preprocess the image by reshape and normalization.\n",
    "\n",
    "    Args:\n",
    "        img_path: A string.\n",
    "        target_size: A tuple, reshape to this size.\n",
    "    Return:\n",
    "        An image array.\n",
    "    \"\"\"\n",
    "    img = image.load_img(img_path, target_size=target_size)\n",
    "    img = image.img_to_array(img)\n",
    "    img /= 255\n",
    "\n",
    "    return img\n",
    "\n",
    "\n",
    "def show_imgwithheat(img_path, heatmap, alpha=0.4, return_array=False):\n",
    "    \"\"\"Show the image with heatmap.\n",
    "\n",
    "    Args:\n",
    "        img_path: string.\n",
    "        heatmap: image array, get it by calling grad_cam().\n",
    "        alpha: float, transparency of heatmap.\n",
    "        return_array: bool, return a superimposed image array or not.\n",
    "    Return:\n",
    "        None or image array.\n",
    "    \"\"\"\n",
    "    img = cv2.imread(img_path)\n",
    "    heatmap = cv2.resize(heatmap, (img.shape[1], img.shape[0]))\n",
    "    heatmap = (heatmap*255).astype(\"uint8\")\n",
    "    heatmap = cv2.applyColorMap(heatmap, cv2.COLORMAP_JET)\n",
    "    superimposed_img = heatmap * alpha + img\n",
    "    superimposed_img = np.clip(superimposed_img, 0, 255).astype(\"uint8\")\n",
    "    superimposed_img = cv2.cvtColor(superimposed_img, cv2.COLOR_BGR2RGB)\n",
    "\n",
    "    imgwithheat = Image.fromarray(superimposed_img)\n",
    "    try:\n",
    "        display(imgwithheat)\n",
    "    except NameError:\n",
    "        imgwithheat.show()\n",
    "\n",
    "    if return_array:\n",
    "        return superimposed_img"
   ]
  },
  {
   "cell_type": "code",
   "execution_count": 30,
   "metadata": {},
   "outputs": [
    {
     "name": "stdout",
     "output_type": "stream",
     "text": [
      "Model: \"sequential\"\n",
      "_________________________________________________________________\n",
      " Layer (type)                Output Shape              Param #   \n",
      "=================================================================\n",
      " conv2d (Conv2D)             (None, 20, 20, 1)         82        \n",
      "                                                                 \n",
      " max_pooling2d (MaxPooling2  (None, 10, 10, 1)         0         \n",
      " D)                                                              \n",
      "                                                                 \n",
      " flatten (Flatten)           (None, 100)               0         \n",
      "                                                                 \n",
      " dense (Dense)               (None, 10)                1010      \n",
      "                                                                 \n",
      "=================================================================\n",
      "Total params: 1092 (4.27 KB)\n",
      "Trainable params: 1092 (4.27 KB)\n",
      "Non-trainable params: 0 (0.00 Byte)\n",
      "_________________________________________________________________\n"
     ]
    }
   ],
   "source": [
    "model.summary()"
   ]
  },
  {
   "cell_type": "code",
   "execution_count": 31,
   "metadata": {},
   "outputs": [
    {
     "ename": "NameError",
     "evalue": "name 'test' is not defined",
     "output_type": "error",
     "traceback": [
      "\u001b[0;31m---------------------------------------------------------------------------\u001b[0m",
      "\u001b[0;31mNameError\u001b[0m                                 Traceback (most recent call last)",
      "Cell \u001b[0;32mIn[31], line 1\u001b[0m\n\u001b[0;32m----> 1\u001b[0m heatmap \u001b[38;5;241m=\u001b[39m grad_cam(model, \u001b[43mtest\u001b[49m,\n\u001b[1;32m      2\u001b[0m                 label_name \u001b[38;5;241m=\u001b[39m [\u001b[38;5;124m'\u001b[39m\u001b[38;5;124mWRIST\u001b[39m\u001b[38;5;124m'\u001b[39m, \u001b[38;5;124m'\u001b[39m\u001b[38;5;124mELBOW\u001b[39m\u001b[38;5;124m'\u001b[39m, \u001b[38;5;124m'\u001b[39m\u001b[38;5;124mSHOULDER\u001b[39m\u001b[38;5;124m'\u001b[39m],\n\u001b[1;32m      3\u001b[0m                 \u001b[38;5;66;03m#category_id = 0,\u001b[39;00m\n\u001b[1;32m      4\u001b[0m                 )\n",
      "\u001b[0;31mNameError\u001b[0m: name 'test' is not defined"
     ]
    }
   ],
   "source": [
    "heatmap = grad_cam(model, test,\n",
    "                label_name = ['WRIST', 'ELBOW', 'SHOULDER'],\n",
    "                #category_id = 0,\n",
    "                )\n"
   ]
  },
  {
   "cell_type": "code",
   "execution_count": null,
   "metadata": {},
   "outputs": [],
   "source": []
  }
 ],
 "metadata": {
  "kernelspec": {
   "display_name": "base",
   "language": "python",
   "name": "python3"
  },
  "language_info": {
   "codemirror_mode": {
    "name": "ipython",
    "version": 3
   },
   "file_extension": ".py",
   "mimetype": "text/x-python",
   "name": "python",
   "nbconvert_exporter": "python",
   "pygments_lexer": "ipython3",
   "version": "3.11.8"
  }
 },
 "nbformat": 4,
 "nbformat_minor": 2
}
