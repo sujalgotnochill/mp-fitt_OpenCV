{
 "cells": [
  {
   "cell_type": "markdown",
   "metadata": {},
   "source": [
    "## Neural Network from scratch"
   ]
  },
  {
   "cell_type": "code",
   "execution_count": 5,
   "metadata": {},
   "outputs": [],
   "source": [
    "import numpy as np"
   ]
  },
  {
   "cell_type": "code",
   "execution_count": 1,
   "metadata": {},
   "outputs": [],
   "source": [
    "def sigmoid(x):\n",
    "    return 1/(1 + np.exp(-x))"
   ]
  },
  {
   "cell_type": "code",
   "execution_count": 2,
   "metadata": {},
   "outputs": [],
   "source": [
    "def sigmoid_derivative(x):\n",
    "    return x * (1 - x)"
   ]
  },
  {
   "cell_type": "code",
   "execution_count": 3,
   "metadata": {},
   "outputs": [],
   "source": [
    "class NeuralNetwork:\n",
    "    def __init__(self, input_size, hidden_size, output_size):\n",
    "        self.weights_input_hidden = np.random.rand(input_size, hidden_size)\n",
    "        self.bias_hidden = np.zeros((1, hidden_size))\n",
    "        self.weights_hidden_output = np.random.rand(hidden_size, output_size)\n",
    "        self.bias_output = np.zeros((1, output_size))\n",
    "    def forward(self, inputs):\n",
    "        self.inputs = inputs\n",
    "        self.hidden_layer_input = np.dot(inputs, self.weights_input_hidden) + self.bias_hidden\n",
    "        self.hidden_layer_output = sigmoid(self.hidden_layer_input)\n",
    "        self.output_layer_input = np.dot(self.hidden_layer_output, self.weights_hidden_output) + self.bias_output\n",
    "        self.output = sigmoid(self.output_layer_input)\n",
    "        return self.output\n",
    "    def backward(self, target, learning_rate):\n",
    "        loss = target - self.output\n",
    "        delta_output = loss * sigmoid_derivative(self.output)\n",
    "        loss_hidden = delta_output.dot(self.weights_hidden_output.T)\n",
    "        delta_hidden = loss_hidden * sigmoid_derivative(self.hidden_layer_output)\n",
    "        \n",
    "        self.weights_hidden_output += self.hidden_layer_output.T.dot(delta_output) * learning_rate\n",
    "        self.bias_output += np.sum(delta_output, axis=0, keepdims=True) * learning_rate\n",
    "        self.weights_input_hidden += self.inputs.T.dot(delta_hidden) * learning_rate\n",
    "        self.bias_hidden += np.sum(delta_hidden, axis=0, keepdims=True) * learning_rate\n",
    "        \n",
    "        "
   ]
  },
  {
   "cell_type": "code",
   "execution_count": 6,
   "metadata": {},
   "outputs": [
    {
     "name": "stdout",
     "output_type": "stream",
     "text": [
      "Predicted Output: [0.48278771]\n"
     ]
    }
   ],
   "source": [
    "if __name__ == \"__main__\":\n",
    "    input_size = 4\n",
    "    hidden_size = 8\n",
    "    output_size = 1\n",
    "    \n",
    "    nn = NeuralNetwork(input_size, hidden_size, output_size)\n",
    "    \n",
    "    training_data = np.array([[0,0,1,1],[0,1,1,1],[1,0,1,0],[1,1,1,0]])\n",
    "    target_data = np.array([[0],[1],[1],[0]])\n",
    "    \n",
    "    for _ in range(20000):\n",
    "        nn.forward(training_data)\n",
    "        nn.backward(target_data, learning_rate=0.001)\n",
    "        \n",
    "    new_data = np.array([0,1,0,0])\n",
    "    predicted_output = nn.forward(new_data)\n",
    "    print(f\"Predicted Output: {predicted_output[0]}\")"
   ]
  }
 ],
 "metadata": {
  "kernelspec": {
   "display_name": "base",
   "language": "python",
   "name": "python3"
  },
  "language_info": {
   "codemirror_mode": {
    "name": "ipython",
    "version": 3
   },
   "file_extension": ".py",
   "mimetype": "text/x-python",
   "name": "python",
   "nbconvert_exporter": "python",
   "pygments_lexer": "ipython3",
   "version": "3.11.5"
  }
 },
 "nbformat": 4,
 "nbformat_minor": 2
}
